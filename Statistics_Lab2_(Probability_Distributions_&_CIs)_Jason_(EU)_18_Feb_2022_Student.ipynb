{
  "cells": [
    {
      "cell_type": "markdown",
      "metadata": {
        "id": "view-in-github",
        "colab_type": "text"
      },
      "source": [
        "<a href=\"https://colab.research.google.com/github/glcn35/statistics/blob/main/Statistics_Lab2_(Probability_Distributions_%26_CIs)_Jason_(EU)_18_Feb_2022_Student.ipynb\" target=\"_parent\"><img src=\"https://colab.research.google.com/assets/colab-badge.svg\" alt=\"Open In Colab\"/></a>"
      ]
    },
    {
      "cell_type": "code",
      "execution_count": 1,
      "metadata": {
        "id": "nh_bzZeynCvO"
      },
      "outputs": [],
      "source": [
        "import numpy as np\n",
        "import pandas as pd\n",
        "from scipy import stats\n",
        "import seaborn as sns\n",
        "import matplotlib.pyplot as plt"
      ]
    },
    {
      "cell_type": "markdown",
      "metadata": {
        "id": "glBMbgbonCvR"
      },
      "source": [
        "## Binomial Distribution\n",
        "*Source: Wackerly, D., Mendenhall, W., & Scheaffer, R. L. (2014). Mathematical statistics with applications. Cengage Learning.*"
      ]
    },
    {
      "cell_type": "markdown",
      "metadata": {
        "id": "r38_pC3gnCvT"
      },
      "source": [
        "**Exercise 3.40**\n",
        "\n",
        "The probability that a patient recovers from a stomach disease is 0.8. \n",
        "\n",
        "Suppose 20 people are known to have contracted this disease. \n",
        "\n",
        "What is the probability that"
      ]
    },
    {
      "cell_type": "markdown",
      "metadata": {
        "id": "lVu-L98vnCvU"
      },
      "source": [
        "a. exactly 14 recover?"
      ]
    },
    {
      "cell_type": "markdown",
      "metadata": {
        "id": "NJOVLPHNnCvV"
      },
      "source": [
        "this is P(X=14)"
      ]
    },
    {
      "cell_type": "code",
      "execution_count": 2,
      "metadata": {
        "id": "dvaU2PeTnCvV"
      },
      "outputs": [],
      "source": [
        "n = 20 #the number of trials\n",
        "p = 0.8 #the probability of success\n",
        "x =14  #random value"
      ]
    },
    {
      "cell_type": "code",
      "source": [
        "stats.binom.pmf(k=14,n=20,p=0.8)"
      ],
      "metadata": {
        "colab": {
          "base_uri": "https://localhost:8080/"
        },
        "id": "ZXxAvqwMz0-B",
        "outputId": "e777ebaf-993c-4c4d-bff4-54665ed6dbed"
      },
      "execution_count": 3,
      "outputs": [
        {
          "output_type": "execute_result",
          "data": {
            "text/plain": [
              "0.10909970097304983"
            ]
          },
          "metadata": {},
          "execution_count": 3
        }
      ]
    },
    {
      "cell_type": "code",
      "execution_count": 4,
      "metadata": {
        "colab": {
          "base_uri": "https://localhost:8080/"
        },
        "id": "J7B5aGEpnCvW",
        "outputId": "6b89c738-f53f-4f20-829b-83acfc06a7b9"
      },
      "outputs": [
        {
          "output_type": "execute_result",
          "data": {
            "text/plain": [
              "0.10909970097304983"
            ]
          },
          "metadata": {},
          "execution_count": 4
        }
      ],
      "source": [
        "stats.binom.pmf(14,20,0.8)"
      ]
    },
    {
      "cell_type": "code",
      "execution_count": 5,
      "metadata": {
        "colab": {
          "base_uri": "https://localhost:8080/"
        },
        "id": "_zY28M6bnCvX",
        "outputId": "2aeaea20-b8b9-4746-bd51-884046a04b59"
      },
      "outputs": [
        {
          "output_type": "execute_result",
          "data": {
            "text/plain": [
              "16.0"
            ]
          },
          "metadata": {},
          "execution_count": 5
        }
      ],
      "source": [
        "stats.binom.mean(n,p)  #E(x)=n.p"
      ]
    },
    {
      "cell_type": "markdown",
      "metadata": {
        "id": "3ptI4dwtnCvY"
      },
      "source": [
        "b. at least 10 recover?"
      ]
    },
    {
      "cell_type": "markdown",
      "metadata": {
        "id": "mW1wCntpnCvY"
      },
      "source": [
        "this is P(X≥10)=P(10)+P(11)+P(12)+...+P(20)"
      ]
    },
    {
      "cell_type": "code",
      "execution_count": 6,
      "metadata": {
        "id": "eIDSwL9onCvZ"
      },
      "outputs": [],
      "source": [
        "x = 9"
      ]
    },
    {
      "cell_type": "code",
      "execution_count": 7,
      "metadata": {
        "colab": {
          "base_uri": "https://localhost:8080/"
        },
        "id": "CG2WA291nCvZ",
        "outputId": "8090131c-2c91-470b-bbd7-e2445f5036c6"
      },
      "outputs": [
        {
          "output_type": "execute_result",
          "data": {
            "text/plain": [
              "0.0005634136976601897"
            ]
          },
          "metadata": {},
          "execution_count": 7
        }
      ],
      "source": [
        "stats.binom.cdf(x,n,p)  #9 a kadar alonı bulup 1 den çıkarınca 10 dan büyük olanlar gelir"
      ]
    },
    {
      "cell_type": "code",
      "source": [
        "1- stats.binom.cdf(x,n,p)"
      ],
      "metadata": {
        "colab": {
          "base_uri": "https://localhost:8080/"
        },
        "id": "dPRIj-z61qhS",
        "outputId": "463f662b-fa54-4d29-87bd-8c1c065cd874"
      },
      "execution_count": 8,
      "outputs": [
        {
          "output_type": "execute_result",
          "data": {
            "text/plain": [
              "0.9994365863023398"
            ]
          },
          "metadata": {},
          "execution_count": 8
        }
      ]
    },
    {
      "cell_type": "markdown",
      "metadata": {
        "id": "FwASJGcCnCva"
      },
      "source": [
        "c. at least 14 but not more than 18 recover?"
      ]
    },
    {
      "cell_type": "markdown",
      "metadata": {
        "id": "7ycsWzD1nCva"
      },
      "source": [
        "this is P(14≤X≤18)=P(14)+P(15)+...+P(18)"
      ]
    },
    {
      "cell_type": "code",
      "execution_count": 9,
      "metadata": {
        "id": "sw5ysMVFnCva"
      },
      "outputs": [],
      "source": [
        "x1 = 14\n",
        "x2 = 18"
      ]
    },
    {
      "cell_type": "code",
      "execution_count": 10,
      "metadata": {
        "colab": {
          "base_uri": "https://localhost:8080/"
        },
        "id": "dA459uy7nCvb",
        "outputId": "9251cb9a-1efc-4526-f33a-60b1ff54872d"
      },
      "outputs": [
        {
          "output_type": "execute_result",
          "data": {
            "text/plain": [
              "0.844132196156189"
            ]
          },
          "metadata": {},
          "execution_count": 10
        }
      ],
      "source": [
        "stats.binom.cdf(x2,n,p)- stats.binom.cdf(x1-1,n,p)"
      ]
    },
    {
      "cell_type": "code",
      "execution_count": 11,
      "metadata": {
        "colab": {
          "base_uri": "https://localhost:8080/"
        },
        "id": "ZnAXOaSWnCvb",
        "outputId": "a17c0197-9bb2-4aaa-b099-9c3d5fd4ba98"
      },
      "outputs": [
        {
          "output_type": "execute_result",
          "data": {
            "text/plain": [
              "0.8441321961561871"
            ]
          },
          "metadata": {},
          "execution_count": 11
        }
      ],
      "source": [
        "stats.binom.pmf(k=14,n=20,p=0.8)+stats.binom.pmf(k=15,n=20,p=0.8)+stats.binom.pmf(k=16,n=20,p=0.8)+stats.binom.pmf(k=17,n=20,p=0.8)+stats.binom.pmf(k=18,n=20,p=0.8)"
      ]
    },
    {
      "cell_type": "markdown",
      "metadata": {
        "id": "gOI-vxP3nCvb"
      },
      "source": [
        "d. at most 16 recover?"
      ]
    },
    {
      "cell_type": "markdown",
      "metadata": {
        "id": "zYgsiS9FnCvb"
      },
      "source": [
        "this is P(X≤16)=1−P(X>16)=P(17)+P(18)+P(19)+P(20)"
      ]
    },
    {
      "cell_type": "code",
      "execution_count": 12,
      "metadata": {
        "id": "sIo68hXOnCvb"
      },
      "outputs": [],
      "source": [
        "x =16 "
      ]
    },
    {
      "cell_type": "code",
      "source": [
        "stats.binom.cdf(k=16,n=20,p=0.8)"
      ],
      "metadata": {
        "colab": {
          "base_uri": "https://localhost:8080/"
        },
        "id": "gbiZqexk39Iu",
        "outputId": "3c2191af-ce29-4717-902a-e1eb599c7f21"
      },
      "execution_count": 13,
      "outputs": [
        {
          "output_type": "execute_result",
          "data": {
            "text/plain": [
              "0.5885511380434305"
            ]
          },
          "metadata": {},
          "execution_count": 13
        }
      ]
    },
    {
      "cell_type": "code",
      "execution_count": 14,
      "metadata": {
        "colab": {
          "base_uri": "https://localhost:8080/"
        },
        "id": "18KfxVb1nCvc",
        "outputId": "872847e4-6bcd-42b5-efe7-ae06aea4cffd"
      },
      "outputs": [
        {
          "output_type": "execute_result",
          "data": {
            "text/plain": [
              "0.5885511380434316"
            ]
          },
          "metadata": {},
          "execution_count": 14
        }
      ],
      "source": [
        "1- (stats.binom.pmf(k=17,n=20,p=0.8)+stats.binom.pmf(k=18,n=20,p=0.8)+stats.binom.pmf(k=19,n=20,p=0.8)+stats.binom.pmf(k=20,n=20,p=0.8))"
      ]
    },
    {
      "cell_type": "markdown",
      "metadata": {
        "id": "1fxVbKd-nCvc"
      },
      "source": [
        "e. Construct discrete probability distribution table and draw a graph"
      ]
    },
    {
      "cell_type": "code",
      "execution_count": 15,
      "metadata": {
        "colab": {
          "base_uri": "https://localhost:8080/"
        },
        "id": "3LlmtwqFnCvc",
        "outputId": "33957fa4-1d8d-4f5d-bd57-e7291398b9bb"
      },
      "outputs": [
        {
          "output_type": "stream",
          "name": "stdout",
          "text": [
            "0\t1.048576000000001e-14\n",
            "1\t8.388607999999975e-13\n",
            "2\t3.187671040000001e-11\n",
            "3\t7.650410495999974e-10\n",
            "4\t1.3005697843199945e-08\n",
            "5\t1.6647293239295892e-07\n",
            "6\t1.664729323929588e-06\n",
            "7\t1.3317834591436803e-05\n",
            "8\t8.656592484433902e-05\n",
            "9\t0.000461684932503141\n",
            "10\t0.002031413703013826\n",
            "11\t0.007386958920050259\n",
            "12\t0.022160876760150803\n",
            "13\t0.0545498504865252\n",
            "14\t0.10909970097304983\n",
            "15\t0.17455952155687976\n",
            "16\t0.21819940194610007\n",
            "17\t0.2053641430080944\n",
            "18\t0.13690942867206304\n",
            "19\t0.05764607523034236\n",
            "20\t0.011529215046068481\n"
          ]
        }
      ],
      "source": [
        "dist = []\n",
        "for i in range(n+1):\n",
        "   dist.append(stats.binom.pmf(i,n,p))\n",
        "   print(str(i) +\"\\t\"+str(stats.binom.pmf(i,n,p)))"
      ]
    },
    {
      "cell_type": "code",
      "execution_count": 16,
      "metadata": {
        "colab": {
          "base_uri": "https://localhost:8080/",
          "height": 284
        },
        "id": "ldApYBz6nCve",
        "outputId": "b3679174-f949-4994-e6af-ad657919332f"
      },
      "outputs": [
        {
          "output_type": "execute_result",
          "data": {
            "text/plain": [
              "<BarContainer object of 21 artists>"
            ]
          },
          "metadata": {},
          "execution_count": 16
        },
        {
          "output_type": "display_data",
          "data": {
            "image/png": "[encoded data removed]",
            "text/plain": [
              "<Figure size 432x288 with 1 Axes>"
            ]
          },
          "metadata": {
            "needs_background": "light"
          }
        }
      ],
      "source": [
        "plt.bar(list(range(n+1)),dist)"
      ]
    },
    {
      "cell_type": "markdown",
      "metadata": {
        "id": "Wg5j1h5WnCve"
      },
      "source": [
        "## Poisson Distribution\n",
        "*Source: Wackerly, D., Mendenhall, W., & Scheaffer, R. L. (2014). Mathematical statistics with applications. Cengage Learning.*"
      ]
    },
    {
      "cell_type": "markdown",
      "metadata": {
        "id": "u7HQOEdjnCve"
      },
      "source": [
        "Suppose that a random system of police patrol is devised so that a patrol officer may visit a given beat location Y = 0, 1, 2, 3, . . . times per half-hour period, with each location being visited an average of once per time period. \n",
        "\n",
        "Assume that Y possesses, approximately, a Poisson probability distribution. \n",
        "\n",
        "Calculate the probability that the patrol officer will miss a given location during a half-hour period. \n",
        "\n",
        "What is the probability that it will be visited once? \n",
        "\n",
        "Twice? \n",
        "\n",
        "At least once?"
      ]
    },
    {
      "cell_type": "code",
      "execution_count": 17,
      "metadata": {
        "id": "g9-2JGpanCvf"
      },
      "outputs": [],
      "source": [
        "#For this example the time period is a half-hour, and the mean number of visits per half-hour interval is λ = 1. Then\n",
        "\n",
        "mu = 1"
      ]
    },
    {
      "cell_type": "markdown",
      "metadata": {
        "id": "Fh4HqqjtnCvf"
      },
      "source": [
        "P(Y = 0) = ?"
      ]
    },
    {
      "cell_type": "code",
      "execution_count": 19,
      "metadata": {
        "colab": {
          "base_uri": "https://localhost:8080/"
        },
        "id": "WQfSVhcXnCvf",
        "outputId": "011826bc-2e80-4f38-e592-3057df0c8d65"
      },
      "outputs": [
        {
          "output_type": "execute_result",
          "data": {
            "text/plain": [
              "0.36787944117144233"
            ]
          },
          "metadata": {},
          "execution_count": 19
        }
      ],
      "source": [
        "stats.poisson.pmf(k=0,mu=1)"
      ]
    },
    {
      "cell_type": "markdown",
      "metadata": {
        "id": "yluPsUHQnCvg"
      },
      "source": [
        "P(Y = 1) = ?"
      ]
    },
    {
      "cell_type": "code",
      "execution_count": 20,
      "metadata": {
        "colab": {
          "base_uri": "https://localhost:8080/"
        },
        "id": "zXzMW1sInCvg",
        "outputId": "917fedaa-dbae-47c8-9432-7e119fe6933b"
      },
      "outputs": [
        {
          "output_type": "execute_result",
          "data": {
            "text/plain": [
              "0.36787944117144233"
            ]
          },
          "metadata": {},
          "execution_count": 20
        }
      ],
      "source": [
        "stats.poisson.pmf(k=1,mu=1)"
      ]
    },
    {
      "cell_type": "markdown",
      "metadata": {
        "id": "OLdvXmKsnCvg"
      },
      "source": [
        "P(Y = 2) = ?"
      ]
    },
    {
      "cell_type": "code",
      "execution_count": 21,
      "metadata": {
        "colab": {
          "base_uri": "https://localhost:8080/"
        },
        "id": "5qcFkG7hnCvg",
        "outputId": "2d69b4e7-f1e7-45a6-edc9-c05678b88f02"
      },
      "outputs": [
        {
          "output_type": "execute_result",
          "data": {
            "text/plain": [
              "0.18393972058572114"
            ]
          },
          "metadata": {},
          "execution_count": 21
        }
      ],
      "source": [
        "stats.poisson.pmf(k=2,mu=1)"
      ]
    },
    {
      "cell_type": "markdown",
      "metadata": {
        "id": "320bPHC_nCvh"
      },
      "source": [
        "P(Y ≥ 1) = ?"
      ]
    },
    {
      "cell_type": "code",
      "execution_count": 23,
      "metadata": {
        "colab": {
          "base_uri": "https://localhost:8080/"
        },
        "id": "MqtxV6zjnCvh",
        "outputId": "48cdbd4c-ee44-4cda-d0dc-f49448f91716"
      },
      "outputs": [
        {
          "output_type": "execute_result",
          "data": {
            "text/plain": [
              "0.6321205588285577"
            ]
          },
          "metadata": {},
          "execution_count": 23
        }
      ],
      "source": [
        "1-stats.poisson.pmf(k=0,mu=1)"
      ]
    },
    {
      "cell_type": "code",
      "execution_count": null,
      "metadata": {
        "id": "Rphqg3u5nCvh",
        "outputId": "45d9ef86-debd-49e4-dff9-f5581cfc2ef1"
      },
      "outputs": [
        {
          "data": {
            "text/plain": [
              "0.6321205588285576"
            ]
          },
          "execution_count": 32,
          "metadata": {},
          "output_type": "execute_result"
        }
      ],
      "source": [
        "1-stats.poisson.cdf(k=0,mu=1)"
      ]
    },
    {
      "cell_type": "markdown",
      "metadata": {
        "id": "Deq5CBSgnCvh"
      },
      "source": [
        "P(Y ≥ 3) = ?"
      ]
    },
    {
      "cell_type": "code",
      "execution_count": 25,
      "metadata": {
        "colab": {
          "base_uri": "https://localhost:8080/"
        },
        "id": "lr4bb0gAnCvh",
        "outputId": "fd0ecd32-1964-4161-f490-a5de83dd4bfb"
      },
      "outputs": [
        {
          "output_type": "execute_result",
          "data": {
            "text/plain": [
              "0.08030139707139416"
            ]
          },
          "metadata": {},
          "execution_count": 25
        }
      ],
      "source": [
        "1-stats.poisson.cdf(k=2,mu=1)"
      ]
    },
    {
      "cell_type": "markdown",
      "metadata": {
        "id": "hxnZoxW6nCvh"
      },
      "source": [
        "## Normal Distribution\n",
        "*Source: Wackerly, D., Mendenhall, W., & Scheaffer, R. L. (2014). Mathematical statistics with applications. Cengage Learning.*"
      ]
    },
    {
      "cell_type": "markdown",
      "metadata": {
        "id": "xwPrKZHlnCvi"
      },
      "source": [
        "**Exercise 4.74**\n",
        "\n",
        "Scores on an examination are assumed to be normally distributed with mean 78 and variance 36."
      ]
    },
    {
      "cell_type": "markdown",
      "metadata": {
        "id": "Q2kTsDrxnCvi"
      },
      "source": [
        "a. What is the probability that a person taking the examination scores higher than 72?"
      ]
    },
    {
      "cell_type": "markdown",
      "metadata": {
        "id": "A3MiuKd5nCvi"
      },
      "source": [
        "this is P(X>72)"
      ]
    },
    {
      "cell_type": "code",
      "execution_count": 26,
      "metadata": {
        "id": "uYAyDztRnCvi"
      },
      "outputs": [],
      "source": [
        "mu =78\n",
        "sigma =np.sqrt(36)\n",
        "x = 72"
      ]
    },
    {
      "cell_type": "code",
      "execution_count": 27,
      "metadata": {
        "colab": {
          "base_uri": "https://localhost:8080/"
        },
        "id": "oEv6lCy7nCvi",
        "outputId": "067a99e5-ccbf-4e58-b0d8-e6f0f7ea85f6"
      },
      "outputs": [
        {
          "output_type": "execute_result",
          "data": {
            "text/plain": [
              "0.15865525393145707"
            ]
          },
          "metadata": {},
          "execution_count": 27
        }
      ],
      "source": [
        "stats.norm.cdf(72,loc=78,scale=6)  #72 den küçük"
      ]
    },
    {
      "cell_type": "code",
      "source": [
        "1-stats.norm.cdf(72,loc=78,scale=6)"
      ],
      "metadata": {
        "colab": {
          "base_uri": "https://localhost:8080/"
        },
        "id": "M7nSZaOuBYFG",
        "outputId": "d1d25b08-34c9-4cb7-f057-2bdc06d0ee6f"
      },
      "execution_count": 28,
      "outputs": [
        {
          "output_type": "execute_result",
          "data": {
            "text/plain": [
              "0.8413447460685429"
            ]
          },
          "metadata": {},
          "execution_count": 28
        }
      ]
    },
    {
      "cell_type": "markdown",
      "metadata": {
        "id": "9LrIkmbGnCvi"
      },
      "source": [
        "b. Suppose that students scoring in the top 10% of this distribution are to receive an A grade.\n",
        "What is the minimum score a student must achieve to earn an A grade?"
      ]
    },
    {
      "cell_type": "code",
      "execution_count": 30,
      "metadata": {
        "id": "0aRDjTKJnCvi"
      },
      "outputs": [],
      "source": [
        "q = 1-0.10 # %90  #cdf:bir scroeden olasiliga giderken kullanilir , ppf:olasiliktan score gidyorsa kullanilir"
      ]
    },
    {
      "cell_type": "code",
      "execution_count": 31,
      "metadata": {
        "colab": {
          "base_uri": "https://localhost:8080/"
        },
        "id": "ejtFdePWnCvj",
        "outputId": "9085e72d-1ee5-494f-cdaa-1af3863c51bf"
      },
      "outputs": [
        {
          "output_type": "execute_result",
          "data": {
            "text/plain": [
              "1.2815515655446004"
            ]
          },
          "metadata": {},
          "execution_count": 31
        }
      ],
      "source": [
        "stats.norm.ppf(q)   #z skorunu hesapladık"
      ]
    },
    {
      "cell_type": "code",
      "execution_count": 32,
      "metadata": {
        "colab": {
          "base_uri": "https://localhost:8080/"
        },
        "id": "eHb7WiGGnCvj",
        "outputId": "84aa59dc-6fd3-4095-9fae-8754e6071776"
      },
      "outputs": [
        {
          "output_type": "execute_result",
          "data": {
            "text/plain": [
              "85.6893093932676"
            ]
          },
          "metadata": {},
          "execution_count": 32
        }
      ],
      "source": [
        "stats.norm.ppf(q,loc=78,scale=6)  #en az 86 almak lazım%10 luk dlimde olmak için"
      ]
    },
    {
      "cell_type": "code",
      "source": [
        "stats.norm.ppf(q,loc=0,scale=1) "
      ],
      "metadata": {
        "colab": {
          "base_uri": "https://localhost:8080/"
        },
        "id": "Z-8oTmJ-Dr_k",
        "outputId": "d3e7d9c4-848e-41e9-e8cd-1d88cf39d585"
      },
      "execution_count": 33,
      "outputs": [
        {
          "output_type": "execute_result",
          "data": {
            "text/plain": [
              "1.2815515655446004"
            ]
          },
          "metadata": {},
          "execution_count": 33
        }
      ]
    },
    {
      "cell_type": "markdown",
      "metadata": {
        "id": "IDTstW6XnCvj"
      },
      "source": [
        "c. What must be the cutoff point for passing the examination if the examiner wants only the\n",
        "top 28.1% of all scores to be passing?"
      ]
    },
    {
      "cell_type": "code",
      "execution_count": 34,
      "metadata": {
        "id": "dhZP46V0nCvj"
      },
      "outputs": [],
      "source": [
        "q = 1-0.281"
      ]
    },
    {
      "cell_type": "code",
      "execution_count": 35,
      "metadata": {
        "colab": {
          "base_uri": "https://localhost:8080/"
        },
        "id": "UC2V2GLDnCvj",
        "outputId": "0a2af211-a606-47ae-cd4e-4d1f7122d53e"
      },
      "outputs": [
        {
          "output_type": "execute_result",
          "data": {
            "text/plain": [
              "0.5798733924277045"
            ]
          },
          "metadata": {},
          "execution_count": 35
        }
      ],
      "source": [
        "stats.norm.ppf(q)"
      ]
    },
    {
      "cell_type": "code",
      "source": [
        "stats.norm.ppf(q,mu,sigma)"
      ],
      "metadata": {
        "colab": {
          "base_uri": "https://localhost:8080/"
        },
        "id": "vk7DkVzREHEO",
        "outputId": "46ab33b9-df07-4517-8fe1-543515894c56"
      },
      "execution_count": 36,
      "outputs": [
        {
          "output_type": "execute_result",
          "data": {
            "text/plain": [
              "81.47924035456623"
            ]
          },
          "metadata": {},
          "execution_count": 36
        }
      ]
    },
    {
      "cell_type": "markdown",
      "metadata": {
        "id": "cOpjVxcunCvj"
      },
      "source": [
        "d. Approximately what proportion of students have scores 5 or more points above the score\n",
        "that cuts off the lowest 25%?"
      ]
    },
    {
      "cell_type": "code",
      "execution_count": 37,
      "metadata": {
        "id": "ur1oj4h1nCvj"
      },
      "outputs": [],
      "source": [
        "q1 = 0.25"
      ]
    },
    {
      "cell_type": "code",
      "execution_count": 38,
      "metadata": {
        "colab": {
          "base_uri": "https://localhost:8080/"
        },
        "id": "6EoI89gqnCvj",
        "outputId": "439e0afc-77bd-41e8-d057-561933b734df"
      },
      "outputs": [
        {
          "output_type": "execute_result",
          "data": {
            "text/plain": [
              "-0.6744897501960817"
            ]
          },
          "metadata": {},
          "execution_count": 38
        }
      ],
      "source": [
        "stats.norm.ppf(q1)"
      ]
    },
    {
      "cell_type": "code",
      "source": [
        "stats.norm.ppf(q1,loc=78,scale=6)"
      ],
      "metadata": {
        "colab": {
          "base_uri": "https://localhost:8080/"
        },
        "id": "TdlW73hSExW9",
        "outputId": "c987b20e-cb24-4d59-f425-af2f8a591d0a"
      },
      "execution_count": 41,
      "outputs": [
        {
          "output_type": "execute_result",
          "data": {
            "text/plain": [
              "73.95306149882352"
            ]
          },
          "metadata": {},
          "execution_count": 41
        }
      ]
    },
    {
      "cell_type": "code",
      "source": [
        "x1=5+stats.norm.ppf(q1,loc=78,scale=6)\n",
        "x1"
      ],
      "metadata": {
        "colab": {
          "base_uri": "https://localhost:8080/"
        },
        "id": "kZ7yI6ivFD06",
        "outputId": "d24a1d56-ae0f-4fd0-8cc2-e62d80b8dbbd"
      },
      "execution_count": 43,
      "outputs": [
        {
          "output_type": "execute_result",
          "data": {
            "text/plain": [
              "78.95306149882352"
            ]
          },
          "metadata": {},
          "execution_count": 43
        }
      ]
    },
    {
      "cell_type": "code",
      "source": [
        "stats.norm.cdf(x1,loc=78,scale=6)"
      ],
      "metadata": {
        "colab": {
          "base_uri": "https://localhost:8080/"
        },
        "id": "0hdn6LAfFJri",
        "outputId": "c9784fcc-db9b-44e4-e15c-2d065030a9e4"
      },
      "execution_count": 44,
      "outputs": [
        {
          "output_type": "execute_result",
          "data": {
            "text/plain": [
              "0.5631039448377338"
            ]
          },
          "metadata": {},
          "execution_count": 44
        }
      ]
    },
    {
      "cell_type": "code",
      "source": [
        "1-stats.norm.cdf(x1,loc=78,scale=6)"
      ],
      "metadata": {
        "colab": {
          "base_uri": "https://localhost:8080/"
        },
        "id": "Xyn4Jk-2HBsT",
        "outputId": "41a412f6-2669-48db-f080-c7809fc3e735"
      },
      "execution_count": 45,
      "outputs": [
        {
          "output_type": "execute_result",
          "data": {
            "text/plain": [
              "0.43689605516226615"
            ]
          },
          "metadata": {},
          "execution_count": 45
        }
      ]
    },
    {
      "cell_type": "markdown",
      "metadata": {
        "id": "5C8FCgL6nCvk"
      },
      "source": [
        "*OPTIONAL*\n",
        "\n",
        "f. If it is known that a student’s score exceeds 72, what is the probability that his or her score\n",
        "exceeds 84? "
      ]
    },
    {
      "cell_type": "code",
      "execution_count": null,
      "metadata": {
        "id": "ucRI9-Q_nCvk"
      },
      "outputs": [],
      "source": [
        ""
      ]
    },
    {
      "cell_type": "markdown",
      "metadata": {
        "id": "oU7E0jaFnCvk"
      },
      "source": [
        "## t Distribution\n",
        "*Lane, D. (2006). Online statistics education: a multimedia course of study (http://onlinestatbook.com/). Rice University.*"
      ]
    },
    {
      "cell_type": "markdown",
      "metadata": {
        "id": "Z_KW8QFcnCvk"
      },
      "source": [
        "For a t distribution with 15 degrees of freedom, 90% of the distribution is within how many standard deviations of the mean?"
      ]
    },
    {
      "cell_type": "code",
      "execution_count": null,
      "metadata": {
        "id": "oYIQ66DUnCvk"
      },
      "outputs": [],
      "source": [
        "dof = \n",
        "q = "
      ]
    },
    {
      "cell_type": "markdown",
      "metadata": {
        "id": "4-u0VCOFnCvk"
      },
      "source": [
        "## Confidence Intervals Using the Normal Distribution"
      ]
    },
    {
      "cell_type": "markdown",
      "metadata": {
        "id": "BwFVDcp6nCvk"
      },
      "source": [
        "If we’re working with larger samples (n≥30), we can assume that the sampling distribution of the sample mean is normally distributed (thanks to the Central Limit Theorem) and can instead use the norm.interval() function from the scipy.stats library."
      ]
    },
    {
      "cell_type": "code",
      "execution_count": null,
      "metadata": {
        "id": "L2HwMEpWnCvl"
      },
      "outputs": [],
      "source": [
        "sns.get_dataset_names()"
      ]
    },
    {
      "cell_type": "markdown",
      "metadata": {
        "id": "_EsU-I_AnCvl"
      },
      "source": [
        "1. Load \"tips\" dataset from Seaborn library"
      ]
    },
    {
      "cell_type": "code",
      "execution_count": null,
      "metadata": {
        "id": "6gtEkTConCvl"
      },
      "outputs": [],
      "source": [
        ""
      ]
    },
    {
      "cell_type": "markdown",
      "metadata": {
        "id": "ZwrV_NMMnCvl"
      },
      "source": [
        "2. Draw a set of vertical bar plots (based on \"total_bill\") grouped by \"day\" variable:"
      ]
    },
    {
      "cell_type": "code",
      "execution_count": null,
      "metadata": {
        "id": "1b5FS6_znCvl"
      },
      "outputs": [],
      "source": [
        ""
      ]
    },
    {
      "cell_type": "markdown",
      "metadata": {
        "id": "w5LoaVAjnCvl"
      },
      "source": [
        "3. Subset a dataframe just including Sunday tips"
      ]
    },
    {
      "cell_type": "code",
      "execution_count": null,
      "metadata": {
        "id": "hWubAutKnCvl"
      },
      "outputs": [],
      "source": [
        ""
      ]
    },
    {
      "cell_type": "markdown",
      "metadata": {
        "id": "InfCykV5nCvn"
      },
      "source": [
        "4. Calculate mean and std"
      ]
    },
    {
      "cell_type": "code",
      "execution_count": null,
      "metadata": {
        "id": "Jd-GSjwxnCvn"
      },
      "outputs": [],
      "source": [
        ""
      ]
    },
    {
      "cell_type": "code",
      "execution_count": null,
      "metadata": {
        "id": "qll6HEtinCvn"
      },
      "outputs": [],
      "source": [
        ""
      ]
    },
    {
      "cell_type": "markdown",
      "metadata": {
        "id": "gyNJuPQ_nCvn"
      },
      "source": [
        "5. Calculate standart error of the mean"
      ]
    },
    {
      "cell_type": "code",
      "execution_count": null,
      "metadata": {
        "id": "t20WJoNBnCvn"
      },
      "outputs": [],
      "source": [
        ""
      ]
    },
    {
      "cell_type": "code",
      "execution_count": null,
      "metadata": {
        "id": "VACbyQlSnCvn"
      },
      "outputs": [],
      "source": [
        ""
      ]
    },
    {
      "cell_type": "markdown",
      "metadata": {
        "id": "9pGEHTbCnCvo"
      },
      "source": [
        "6. Calculate the margin of error (95%)"
      ]
    },
    {
      "cell_type": "code",
      "execution_count": null,
      "metadata": {
        "id": "tvQsE2HunCvo"
      },
      "outputs": [],
      "source": [
        ""
      ]
    },
    {
      "cell_type": "markdown",
      "metadata": {
        "id": "P_X7DypEnCvo"
      },
      "source": [
        "7. Calculate the upper confidence limit"
      ]
    },
    {
      "cell_type": "code",
      "execution_count": null,
      "metadata": {
        "id": "1llcN75NnCvo"
      },
      "outputs": [],
      "source": [
        ""
      ]
    },
    {
      "cell_type": "markdown",
      "metadata": {
        "id": "WP8hPvTinCvo"
      },
      "source": [
        "8. Calculate the lower confidence limit"
      ]
    },
    {
      "cell_type": "code",
      "execution_count": null,
      "metadata": {
        "id": "sGRhEMYEnCvo"
      },
      "outputs": [],
      "source": [
        ""
      ]
    },
    {
      "cell_type": "markdown",
      "metadata": {
        "id": "fCSC0B5InCvo"
      },
      "source": [
        "9. Calculate 95% Confidence Interval around the mean by using scipy.stats"
      ]
    },
    {
      "cell_type": "code",
      "execution_count": null,
      "metadata": {
        "id": "a-Zv69GFnCvo"
      },
      "outputs": [],
      "source": [
        ""
      ]
    },
    {
      "cell_type": "markdown",
      "metadata": {
        "id": "uCt35VTGnCvo"
      },
      "source": [
        "### Exercise 8.7 (Large Samples)\n",
        "*Source: Wackerly, D., Mendenhall, W., & Scheaffer, R. L. (2014). Mathematical statistics with applications. Cengage Learning.*"
      ]
    },
    {
      "cell_type": "markdown",
      "metadata": {
        "id": "PWKm9lGmnCvp"
      },
      "source": [
        "- The shopping times of n = 64 randomly selected customers at a local supermarket were recorded. \n",
        "\n",
        "- The average and variance of the 64 shopping times were 33 $minutes$ and 256 $minutes^2$, respectively. \n",
        "\n",
        "- Estimate μ, the true average shopping time per customer, with a confidence coefficient of 1 − α = .90."
      ]
    },
    {
      "cell_type": "markdown",
      "metadata": {
        "id": "QQYI7UnCnCvp"
      },
      "source": [
        "![image.png](attachment:image.png)"
      ]
    },
    {
      "cell_type": "code",
      "execution_count": null,
      "metadata": {
        "id": "hhbeKqjXnCvp"
      },
      "outputs": [],
      "source": [
        "n = \n",
        "xbar = \n",
        "var = \n",
        "ci = \n",
        "s = \n",
        "\n",
        "sem = "
      ]
    },
    {
      "cell_type": "code",
      "execution_count": null,
      "metadata": {
        "id": "rzSK5cNTnCvp"
      },
      "outputs": [],
      "source": [
        "stats.norm."
      ]
    },
    {
      "cell_type": "code",
      "execution_count": null,
      "metadata": {
        "id": "zVgu7-N-nCvp"
      },
      "outputs": [],
      "source": [
        ""
      ]
    },
    {
      "cell_type": "markdown",
      "metadata": {
        "id": "_aZlryronCvp"
      },
      "source": [
        "### Exercise 8.11 (Small Samples)\n",
        "*Source: Wackerly, D., Mendenhall, W., & Scheaffer, R. L. (2014). Mathematical statistics with applications. Cengage Learning.*"
      ]
    },
    {
      "cell_type": "markdown",
      "metadata": {
        "id": "SHs2o_CQnCvp"
      },
      "source": [
        "A manufacturer of gunpowder has developed a new powder, which was tested in eight shells. The resulting muzzle velocities, in feet per second, were as follows:\n",
        "\n",
        "3005 2925 2935 2965\n",
        "\n",
        "2995 3005 2937 2905\n",
        "\n",
        "Find a 95% confidence interval for the true average velocity μ for shells of this type. Assume that muzzle velocities are approximately normally distributed."
      ]
    },
    {
      "cell_type": "markdown",
      "metadata": {
        "id": "8NvZw9jvnCvq"
      },
      "source": [
        "![image.png](attachment:image.png)"
      ]
    },
    {
      "cell_type": "code",
      "execution_count": null,
      "metadata": {
        "id": "vWJXYMovnCvq"
      },
      "outputs": [],
      "source": [
        "x = [3005, 2925, 2935, 2965, 2995, 3005, 2937, 2905]"
      ]
    },
    {
      "cell_type": "code",
      "execution_count": null,
      "metadata": {
        "id": "lwvuQrwwnCvq"
      },
      "outputs": [],
      "source": [
        "# Sample size\n",
        "n = \n",
        "\n",
        "# Sample mean\n",
        "xbar = \n",
        "\n",
        "# Sample standard deviation\n",
        "s = \n",
        "\n",
        "# Confidence level\n",
        "cl = "
      ]
    },
    {
      "cell_type": "code",
      "execution_count": null,
      "metadata": {
        "id": "G3WRpJognCvq"
      },
      "outputs": [],
      "source": [
        "stats.t."
      ]
    },
    {
      "cell_type": "code",
      "execution_count": null,
      "metadata": {
        "id": "V4cE9JSonCvq"
      },
      "outputs": [],
      "source": [
        ""
      ]
    },
    {
      "cell_type": "code",
      "execution_count": null,
      "metadata": {
        "id": "LRnhwAeHnCvq"
      },
      "outputs": [],
      "source": [
        ""
      ]
    }
  ],
  "metadata": {
    "kernelspec": {
      "display_name": "Python 3",
      "language": "python",
      "name": "python3"
    },
    "language_info": {
      "codemirror_mode": {
        "name": "ipython",
        "version": 3
      },
      "file_extension": ".py",
      "mimetype": "text/x-python",
      "name": "python",
      "nbconvert_exporter": "python",
      "pygments_lexer": "ipython3",
      "version": "3.7.11"
    },
    "colab": {
      "name": "Statistics_Lab2_(Probability Distributions & CIs)_Jason_(EU)_18_Feb_2022-Student.ipynb",
      "provenance": [],
      "collapsed_sections": [
        "hxnZoxW6nCvh",
        "oU7E0jaFnCvk",
        "uCt35VTGnCvo",
        "_aZlryronCvp"
      ],
      "include_colab_link": true
    }
  },
  "nbformat": 4,
  "nbformat_minor": 0
}