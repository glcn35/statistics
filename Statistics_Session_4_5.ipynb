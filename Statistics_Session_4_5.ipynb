{
  "cells": [
    {
      "cell_type": "markdown",
      "metadata": {
        "id": "view-in-github",
        "colab_type": "text"
      },
      "source": [
        "<a href=\"https://colab.research.google.com/github/glcn35/statistics/blob/main/Statistics_Session_4_5.ipynb\" target=\"_parent\"><img src=\"https://colab.research.google.com/assets/colab-badge.svg\" alt=\"Open In Colab\"/></a>"
      ]
    },
    {
      "cell_type": "markdown",
      "id": "53446b45",
      "metadata": {
        "id": "53446b45"
      },
      "source": [
        "## Import Libraries"
      ]
    },
    {
      "cell_type": "code",
      "execution_count": 2,
      "id": "f04c11a6",
      "metadata": {
        "id": "f04c11a6"
      },
      "outputs": [],
      "source": [
        "import numpy as np\n",
        "import pandas as pd\n",
        "from scipy import stats\n",
        "import matplotlib.pyplot as plt\n",
        "import seaborn as sns"
      ]
    },
    {
      "cell_type": "markdown",
      "id": "7f64dbd8",
      "metadata": {
        "id": "7f64dbd8"
      },
      "source": [
        "## Data"
      ]
    },
    {
      "cell_type": "code",
      "execution_count": 3,
      "id": "bbbc1110",
      "metadata": {
        "id": "bbbc1110"
      },
      "outputs": [],
      "source": [
        "happiness_score = [2.69,5.00,5.04,5.79,5.06,7.18,7.40,5.17,4.50,5.23,6.89,5.82,5.92,5.89,3.46,6.19,5.10,4.93,3.78,5.12,5.25,\n",
        "                   7.18, 4.49,6.44,5.13,5.98,3.97,5.49,7.14,5.54,7.03,7.65,5.43,6.13,4.01,6.28,6.09,4.38,7.86,6.67,4.78,4.92,\n",
        "                   4.66,7.12,5.41,6.63,5.25, 3.61,5.91,3.82,5.34,4.28,6.96,6.93,6.52,5.27,5.79,4.64,6.01,4.66,5.30,4.86,5.90,\n",
        "                   5.17,4.13,6.31,7.24,5.24,4.07,3.33,5.34,4.42,4.31,5.88,6.55,5.68,5.46,5.65,4.90,4.65,4.41,4.83,4.91,7.46,\n",
        "                   7.37,5.82,5.16,5.25,7.44,5.47,6.28,5.68,5.87,5.92,6.15,5.51,3.56,6.36,4.77,5.94,4.31,6.24,6.25,4.88,\n",
        "                   5.84,6.51,4.40,7.37,7.51,3.45,6.01,4.02,4.74,5.19,4.62,4.32,4.66,6.60,7.23,6.88,6.37,6.21,5.01,5.30,\n",
        "                   4.04,3.62]\n",
        "\n",
        "life_exp = [52.60,68.70,65.90,68.80,66.90,73.60,73.00,65.50,64.30,66.10,72.00,54.30,63.60,67.80,58.90,66.40,66.80,\n",
        "            53.90,53.40,61.60,52.70,73.60,48.20,69.90,69.30,67.70,57.20,57.90,71.30,70.20,70.30,72.40,65.80, 68.50,\n",
        "            61.70,66.10,68.60,58.50,71.90,73.80,59.70,55.00,64.50,72.20,72.40,64.80,54.40,55.70,67.20,60.10,62.10,66.00,\n",
        "            72.30,73.30,73.60,49.50,75.00,66.80,64.60,60.10,64.10,58.70,66.80,67.10,56.10, 67.30,72.60,67.50,59.10,57.60,\n",
        "            67.00,51.70,57.00,66.40,68.30,65.00,62.30,68.50,65.90,54.20,59.00,56.50,63.50,72.30,73.20,67.50,53.50,49.70,\n",
        "            73.20,58.50,69.60,68.10,61.90,72.40,67.20,64.30,61.10, 66.30,59.60,68.20,50.80,68.90,71.10,56.50,73.60,\n",
        "            74.40,67.20,72.60,74.10,57.50,67.20,54.70,66.90,66.80,62.20,55.70,64.60,67.10,72.30,68.30,69.00,65.10,66.50,\n",
        "            67.90,55.30,55.60]"
      ]
    },
    {
      "cell_type": "code",
      "source": [
        "type(life_exp)"
      ],
      "metadata": {
        "id": "VAgYvfD4ZzXJ",
        "outputId": "7402be94-fb41-4486-bf8d-873ae6a80a05",
        "colab": {
          "base_uri": "https://localhost:8080/"
        }
      },
      "id": "VAgYvfD4ZzXJ",
      "execution_count": 4,
      "outputs": [
        {
          "output_type": "execute_result",
          "data": {
            "text/plain": [
              "list"
            ]
          },
          "metadata": {},
          "execution_count": 4
        }
      ]
    },
    {
      "cell_type": "code",
      "source": [
        "df = pd.DataFrame(list(zip(happiness_score, life_exp)),\n",
        "               columns =['happiness_score', 'life_exp'])\n",
        "df"
      ],
      "metadata": {
        "colab": {
          "base_uri": "https://localhost:8080/",
          "height": 423
        },
        "id": "T91lcQsCvZ2B",
        "outputId": "547378ad-b021-40e1-aab1-e26580a8a184"
      },
      "id": "T91lcQsCvZ2B",
      "execution_count": 5,
      "outputs": [
        {
          "output_type": "execute_result",
          "data": {
            "text/html": [
              "\n",
              "  <div id=\"df-34693ea3-6a3c-4bed-8745-6ea312888f5f\">\n",
              "    <div class=\"colab-df-container\">\n",
              "      <div>\n",
              "<style scoped>\n",
              "    .dataframe tbody tr th:only-of-type {\n",
              "        vertical-align: middle;\n",
              "    }\n",
              "\n",
              "    .dataframe tbody tr th {\n",
              "        vertical-align: top;\n",
              "    }\n",
              "\n",
              "    .dataframe thead th {\n",
              "        text-align: right;\n",
              "    }\n",
              "</style>\n",
              "<table border=\"1\" class=\"dataframe\">\n",
              "  <thead>\n",
              "    <tr style=\"text-align: right;\">\n",
              "      <th></th>\n",
              "      <th>happiness_score</th>\n",
              "      <th>life_exp</th>\n",
              "    </tr>\n",
              "  </thead>\n",
              "  <tbody>\n",
              "    <tr>\n",
              "      <th>0</th>\n",
              "      <td>2.69</td>\n",
              "      <td>52.6</td>\n",
              "    </tr>\n",
              "    <tr>\n",
              "      <th>1</th>\n",
              "      <td>5.00</td>\n",
              "      <td>68.7</td>\n",
              "    </tr>\n",
              "    <tr>\n",
              "      <th>2</th>\n",
              "      <td>5.04</td>\n",
              "      <td>65.9</td>\n",
              "    </tr>\n",
              "    <tr>\n",
              "      <th>3</th>\n",
              "      <td>5.79</td>\n",
              "      <td>68.8</td>\n",
              "    </tr>\n",
              "    <tr>\n",
              "      <th>4</th>\n",
              "      <td>5.06</td>\n",
              "      <td>66.9</td>\n",
              "    </tr>\n",
              "    <tr>\n",
              "      <th>...</th>\n",
              "      <td>...</td>\n",
              "      <td>...</td>\n",
              "    </tr>\n",
              "    <tr>\n",
              "      <th>121</th>\n",
              "      <td>6.21</td>\n",
              "      <td>65.1</td>\n",
              "    </tr>\n",
              "    <tr>\n",
              "      <th>122</th>\n",
              "      <td>5.01</td>\n",
              "      <td>66.5</td>\n",
              "    </tr>\n",
              "    <tr>\n",
              "      <th>123</th>\n",
              "      <td>5.30</td>\n",
              "      <td>67.9</td>\n",
              "    </tr>\n",
              "    <tr>\n",
              "      <th>124</th>\n",
              "      <td>4.04</td>\n",
              "      <td>55.3</td>\n",
              "    </tr>\n",
              "    <tr>\n",
              "      <th>125</th>\n",
              "      <td>3.62</td>\n",
              "      <td>55.6</td>\n",
              "    </tr>\n",
              "  </tbody>\n",
              "</table>\n",
              "<p>126 rows × 2 columns</p>\n",
              "</div>\n",
              "      <button class=\"colab-df-convert\" onclick=\"convertToInteractive('df-34693ea3-6a3c-4bed-8745-6ea312888f5f')\"\n",
              "              title=\"Convert this dataframe to an interactive table.\"\n",
              "              style=\"display:none;\">\n",
              "        \n",
              "  <svg xmlns=\"http://www.w3.org/2000/svg\" height=\"24px\"viewBox=\"0 0 24 24\"\n",
              "       width=\"24px\">\n",
              "    <path d=\"M0 0h24v24H0V0z\" fill=\"none\"/>\n",
              "    <path d=\"M18.56 5.44l.94 2.06.94-2.06 2.06-.94-2.06-.94-.94-2.06-.94 2.06-2.06.94zm-11 1L8.5 8.5l.94-2.06 2.06-.94-2.06-.94L8.5 2.5l-.94 2.06-2.06.94zm10 10l.94 2.06.94-2.06 2.06-.94-2.06-.94-.94-2.06-.94 2.06-2.06.94z\"/><path d=\"M17.41 7.96l-1.37-1.37c-.4-.4-.92-.59-1.43-.59-.52 0-1.04.2-1.43.59L10.3 9.45l-7.72 7.72c-.78.78-.78 2.05 0 2.83L4 21.41c.39.39.9.59 1.41.59.51 0 1.02-.2 1.41-.59l7.78-7.78 2.81-2.81c.8-.78.8-2.07 0-2.86zM5.41 20L4 18.59l7.72-7.72 1.47 1.35L5.41 20z\"/>\n",
              "  </svg>\n",
              "      </button>\n",
              "      \n",
              "  <style>\n",
              "    .colab-df-container {\n",
              "      display:flex;\n",
              "      flex-wrap:wrap;\n",
              "      gap: 12px;\n",
              "    }\n",
              "\n",
              "    .colab-df-convert {\n",
              "      background-color: #E8F0FE;\n",
              "      border: none;\n",
              "      border-radius: 50%;\n",
              "      cursor: pointer;\n",
              "      display: none;\n",
              "      fill: #1967D2;\n",
              "      height: 32px;\n",
              "      padding: 0 0 0 0;\n",
              "      width: 32px;\n",
              "    }\n",
              "\n",
              "    .colab-df-convert:hover {\n",
              "      background-color: #E2EBFA;\n",
              "      box-shadow: 0px 1px 2px rgba(60, 64, 67, 0.3), 0px 1px 3px 1px rgba(60, 64, 67, 0.15);\n",
              "      fill: #174EA6;\n",
              "    }\n",
              "\n",
              "    [theme=dark] .colab-df-convert {\n",
              "      background-color: #3B4455;\n",
              "      fill: #D2E3FC;\n",
              "    }\n",
              "\n",
              "    [theme=dark] .colab-df-convert:hover {\n",
              "      background-color: #434B5C;\n",
              "      box-shadow: 0px 1px 3px 1px rgba(0, 0, 0, 0.15);\n",
              "      filter: drop-shadow(0px 1px 2px rgba(0, 0, 0, 0.3));\n",
              "      fill: #FFFFFF;\n",
              "    }\n",
              "  </style>\n",
              "\n",
              "      <script>\n",
              "        const buttonEl =\n",
              "          document.querySelector('#df-34693ea3-6a3c-4bed-8745-6ea312888f5f button.colab-df-convert');\n",
              "        buttonEl.style.display =\n",
              "          google.colab.kernel.accessAllowed ? 'block' : 'none';\n",
              "\n",
              "        async function convertToInteractive(key) {\n",
              "          const element = document.querySelector('#df-34693ea3-6a3c-4bed-8745-6ea312888f5f');\n",
              "          const dataTable =\n",
              "            await google.colab.kernel.invokeFunction('convertToInteractive',\n",
              "                                                     [key], {});\n",
              "          if (!dataTable) return;\n",
              "\n",
              "          const docLinkHtml = 'Like what you see? Visit the ' +\n",
              "            '<a target=\"_blank\" href=https://colab.research.google.com/notebooks/data_table.ipynb>data table notebook</a>'\n",
              "            + ' to learn more about interactive tables.';\n",
              "          element.innerHTML = '';\n",
              "          dataTable['output_type'] = 'display_data';\n",
              "          await google.colab.output.renderOutput(dataTable, element);\n",
              "          const docLink = document.createElement('div');\n",
              "          docLink.innerHTML = docLinkHtml;\n",
              "          element.appendChild(docLink);\n",
              "        }\n",
              "      </script>\n",
              "    </div>\n",
              "  </div>\n",
              "  "
            ],
            "text/plain": [
              "     happiness_score  life_exp\n",
              "0               2.69      52.6\n",
              "1               5.00      68.7\n",
              "2               5.04      65.9\n",
              "3               5.79      68.8\n",
              "4               5.06      66.9\n",
              "..               ...       ...\n",
              "121             6.21      65.1\n",
              "122             5.01      66.5\n",
              "123             5.30      67.9\n",
              "124             4.04      55.3\n",
              "125             3.62      55.6\n",
              "\n",
              "[126 rows x 2 columns]"
            ]
          },
          "metadata": {},
          "execution_count": 5
        }
      ]
    },
    {
      "cell_type": "code",
      "source": [
        "sns.heatmap(df.corr())"
      ],
      "metadata": {
        "colab": {
          "base_uri": "https://localhost:8080/",
          "height": 288
        },
        "id": "X3k6xIH-vtRD",
        "outputId": "4d20c98f-140a-47d5-aa6f-85d64345ce26"
      },
      "id": "X3k6xIH-vtRD",
      "execution_count": 6,
      "outputs": [
        {
          "output_type": "execute_result",
          "data": {
            "text/plain": [
              "<matplotlib.axes._subplots.AxesSubplot at 0x7f9d4ef84150>"
            ]
          },
          "metadata": {},
          "execution_count": 6
        },
        {
          "output_type": "display_data",
          "data": {
            "image/png": "[encoded data removed]",
            "text/plain": [
              "<Figure size 432x288 with 2 Axes>"
            ]
          },
          "metadata": {
            "needs_background": "light"
          }
        }
      ]
    },
    {
      "cell_type": "code",
      "source": [
        "sns.pairplot(df)"
      ],
      "metadata": {
        "colab": {
          "base_uri": "https://localhost:8080/",
          "height": 392
        },
        "id": "b1ujVKwLwNZr",
        "outputId": "d3894ece-2d29-41d7-b8e5-6f2119be45b1"
      },
      "id": "b1ujVKwLwNZr",
      "execution_count": 7,
      "outputs": [
        {
          "output_type": "execute_result",
          "data": {
            "text/plain": [
              "<seaborn.axisgrid.PairGrid at 0x7f9d3a310ad0>"
            ]
          },
          "metadata": {},
          "execution_count": 7
        },
        {
          "output_type": "display_data",
          "data": {
            "image/png": "[encoded data removed]",
            "text/plain": [
              "<Figure size 360x360 with 6 Axes>"
            ]
          },
          "metadata": {
            "needs_background": "light"
          }
        }
      ]
    },
    {
      "cell_type": "markdown",
      "id": "ddd4ba9b",
      "metadata": {
        "id": "ddd4ba9b"
      },
      "source": [
        "## Descriptive Statistics"
      ]
    },
    {
      "cell_type": "code",
      "source": [
        "type(life_exp)"
      ],
      "metadata": {
        "colab": {
          "base_uri": "https://localhost:8080/"
        },
        "id": "nP4S6jacgCMN",
        "outputId": "d10cdf63-f8c0-476c-db99-b46c8a484478"
      },
      "id": "nP4S6jacgCMN",
      "execution_count": 8,
      "outputs": [
        {
          "output_type": "execute_result",
          "data": {
            "text/plain": [
              "list"
            ]
          },
          "metadata": {},
          "execution_count": 8
        }
      ]
    },
    {
      "cell_type": "markdown",
      "id": "4e054998",
      "metadata": {
        "id": "4e054998"
      },
      "source": [
        "### Central Tendency"
      ]
    },
    {
      "cell_type": "code",
      "execution_count": 9,
      "id": "12245851",
      "metadata": {
        "id": "12245851",
        "outputId": "b9908642-3330-4970-a185-bef754feaea9",
        "colab": {
          "base_uri": "https://localhost:8080/"
        }
      },
      "outputs": [
        {
          "output_type": "execute_result",
          "data": {
            "text/plain": [
              "64.52142857142859"
            ]
          },
          "metadata": {},
          "execution_count": 9
        }
      ],
      "source": [
        "np.mean(life_exp)"
      ]
    },
    {
      "cell_type": "code",
      "execution_count": 10,
      "id": "1e9adb23",
      "metadata": {
        "id": "1e9adb23",
        "outputId": "67eb9ae0-949f-4ccb-e962-0d794072ded7",
        "colab": {
          "base_uri": "https://localhost:8080/"
        }
      },
      "outputs": [
        {
          "output_type": "execute_result",
          "data": {
            "text/plain": [
              "66.35"
            ]
          },
          "metadata": {},
          "execution_count": 10
        }
      ],
      "source": [
        "np.median(life_exp)"
      ]
    },
    {
      "cell_type": "code",
      "execution_count": 11,
      "id": "12566a1b",
      "metadata": {
        "id": "12566a1b",
        "outputId": "4476a0d6-4607-47f6-8742-32403b64799e",
        "colab": {
          "base_uri": "https://localhost:8080/"
        }
      },
      "outputs": [
        {
          "output_type": "execute_result",
          "data": {
            "text/plain": [
              "ModeResult(mode=array([66.8]), count=array([4]))"
            ]
          },
          "metadata": {},
          "execution_count": 11
        }
      ],
      "source": [
        "stats.mode(life_exp)"
      ]
    },
    {
      "cell_type": "markdown",
      "id": "0dad6ba8",
      "metadata": {
        "id": "0dad6ba8"
      },
      "source": [
        "### Dispersion"
      ]
    },
    {
      "cell_type": "code",
      "execution_count": 12,
      "id": "64eb178f",
      "metadata": {
        "id": "64eb178f",
        "outputId": "1e3f89b9-5699-4600-9035-909539ccd701",
        "colab": {
          "base_uri": "https://localhost:8080/"
        }
      },
      "outputs": [
        {
          "output_type": "execute_result",
          "data": {
            "text/plain": [
              "44.22819160997732"
            ]
          },
          "metadata": {},
          "execution_count": 12
        }
      ],
      "source": [
        "np.var(life_exp)"
      ]
    },
    {
      "cell_type": "code",
      "execution_count": 13,
      "id": "6c277622",
      "metadata": {
        "id": "6c277622",
        "outputId": "5dc1d23c-0447-4bfd-c8f6-4fabd599f602",
        "colab": {
          "base_uri": "https://localhost:8080/"
        }
      },
      "outputs": [
        {
          "output_type": "execute_result",
          "data": {
            "text/plain": [
              "6.6504279268312745"
            ]
          },
          "metadata": {},
          "execution_count": 13
        }
      ],
      "source": [
        "np.std(life_exp)"
      ]
    },
    {
      "cell_type": "code",
      "execution_count": 14,
      "id": "6e4d14cf",
      "metadata": {
        "id": "6e4d14cf",
        "outputId": "7f1b667e-c69d-42b9-ef88-ded0e15dc67e",
        "colab": {
          "base_uri": "https://localhost:8080/"
        }
      },
      "outputs": [
        {
          "output_type": "execute_result",
          "data": {
            "text/plain": [
              "59.025"
            ]
          },
          "metadata": {},
          "execution_count": 14
        }
      ],
      "source": [
        "q1 = np.percentile(life_exp, 25)\n",
        "q1"
      ]
    },
    {
      "cell_type": "code",
      "execution_count": 15,
      "id": "601fad89",
      "metadata": {
        "id": "601fad89",
        "outputId": "b0d28afe-09db-4a94-e0ad-e8851867ba3f",
        "colab": {
          "base_uri": "https://localhost:8080/"
        }
      },
      "outputs": [
        {
          "output_type": "execute_result",
          "data": {
            "text/plain": [
              "68.875"
            ]
          },
          "metadata": {},
          "execution_count": 15
        }
      ],
      "source": [
        "q3 = np.percentile(life_exp, 75)\n",
        "q3"
      ]
    },
    {
      "cell_type": "code",
      "execution_count": 16,
      "id": "907e1d98",
      "metadata": {
        "id": "907e1d98",
        "outputId": "ef813cad-5ae4-4f40-c200-c656417f191d",
        "colab": {
          "base_uri": "https://localhost:8080/"
        }
      },
      "outputs": [
        {
          "output_type": "execute_result",
          "data": {
            "text/plain": [
              "9.850000000000001"
            ]
          },
          "metadata": {},
          "execution_count": 16
        }
      ],
      "source": [
        "stats.iqr(life_exp)"
      ]
    },
    {
      "cell_type": "code",
      "execution_count": 17,
      "id": "5f54c9c6",
      "metadata": {
        "id": "5f54c9c6",
        "outputId": "251f164c-5959-4da6-e675-0146a73e31da",
        "colab": {
          "base_uri": "https://localhost:8080/"
        }
      },
      "outputs": [
        {
          "output_type": "execute_result",
          "data": {
            "text/plain": [
              "48.2"
            ]
          },
          "metadata": {},
          "execution_count": 17
        }
      ],
      "source": [
        "np.min(life_exp)"
      ]
    },
    {
      "cell_type": "code",
      "execution_count": 18,
      "id": "7a22c657",
      "metadata": {
        "id": "7a22c657",
        "outputId": "574686fe-c0e5-4f86-e12d-75b30e92235d",
        "colab": {
          "base_uri": "https://localhost:8080/"
        }
      },
      "outputs": [
        {
          "output_type": "execute_result",
          "data": {
            "text/plain": [
              "75.0"
            ]
          },
          "metadata": {},
          "execution_count": 18
        }
      ],
      "source": [
        "np.max(life_exp)"
      ]
    },
    {
      "cell_type": "code",
      "source": [
        ""
      ],
      "metadata": {
        "id": "sv6H_E9xuTgt"
      },
      "id": "sv6H_E9xuTgt",
      "execution_count": 18,
      "outputs": []
    },
    {
      "cell_type": "code",
      "source": [
        ""
      ],
      "metadata": {
        "id": "TeIMKD5KuTuT"
      },
      "id": "TeIMKD5KuTuT",
      "execution_count": 18,
      "outputs": []
    },
    {
      "cell_type": "code",
      "source": [
        ""
      ],
      "metadata": {
        "id": "6WeXxaWQuT4L"
      },
      "id": "6WeXxaWQuT4L",
      "execution_count": 18,
      "outputs": []
    },
    {
      "cell_type": "code",
      "source": [
        ""
      ],
      "metadata": {
        "id": "Dn4JD6m6uUBt"
      },
      "id": "Dn4JD6m6uUBt",
      "execution_count": 18,
      "outputs": []
    },
    {
      "cell_type": "markdown",
      "id": "33596855",
      "metadata": {
        "id": "33596855"
      },
      "source": [
        "### Shape"
      ]
    },
    {
      "cell_type": "code",
      "execution_count": 19,
      "id": "bc8934f7",
      "metadata": {
        "id": "bc8934f7",
        "outputId": "13e20ccb-621f-42a8-af44-97745e726a94",
        "colab": {
          "base_uri": "https://localhost:8080/"
        }
      },
      "outputs": [
        {
          "output_type": "execute_result",
          "data": {
            "text/plain": [
              "-0.507998161416463"
            ]
          },
          "metadata": {},
          "execution_count": 19
        }
      ],
      "source": [
        "stats.skew(life_exp)"
      ]
    },
    {
      "cell_type": "code",
      "execution_count": 20,
      "id": "cd481956",
      "metadata": {
        "id": "cd481956",
        "outputId": "33a8b397-b75d-4c27-8f6f-a8f3b6e6e3f2",
        "colab": {
          "base_uri": "https://localhost:8080/"
        }
      },
      "outputs": [
        {
          "output_type": "execute_result",
          "data": {
            "text/plain": [
              "-0.7040394620922208"
            ]
          },
          "metadata": {},
          "execution_count": 20
        }
      ],
      "source": [
        "stats.kurtosis(life_exp)"
      ]
    },
    {
      "cell_type": "markdown",
      "id": "0a9ed103",
      "metadata": {
        "id": "0a9ed103"
      },
      "source": [
        "## Histogram"
      ]
    },
    {
      "cell_type": "code",
      "execution_count": 21,
      "id": "09161783",
      "metadata": {
        "id": "09161783",
        "outputId": "54798243-7099-4493-801e-4a466c47111e",
        "colab": {
          "base_uri": "https://localhost:8080/",
          "height": 265
        }
      },
      "outputs": [
        {
          "output_type": "display_data",
          "data": {
            "image/png": "[encoded data removed]",
            "text/plain": [
              "<Figure size 432x288 with 1 Axes>"
            ]
          },
          "metadata": {
            "needs_background": "light"
          }
        }
      ],
      "source": [
        "# Create a histogram of life_exp and show\n",
        "plt.hist(life_exp)\n",
        "\n",
        "# Show plot\n",
        "plt.show()"
      ]
    },
    {
      "cell_type": "code",
      "execution_count": 22,
      "id": "85160981",
      "metadata": {
        "id": "85160981",
        "outputId": "b92026a3-1ca5-4b78-fb77-31e113b4740f",
        "colab": {
          "base_uri": "https://localhost:8080/",
          "height": 265
        }
      },
      "outputs": [
        {
          "output_type": "display_data",
          "data": {
            "image/png": "[encoded data removed]",
            "text/plain": [
              "<Figure size 432x288 with 1 Axes>"
            ]
          },
          "metadata": {
            "needs_background": "light"
          }
        }
      ],
      "source": [
        "sns.kdeplot(life_exp)\n",
        "plt.show()"
      ]
    },
    {
      "cell_type": "markdown",
      "id": "4b581a5c",
      "metadata": {
        "id": "4b581a5c"
      },
      "source": [
        "# Scatter Plot"
      ]
    },
    {
      "cell_type": "code",
      "execution_count": 23,
      "id": "c7ba8160",
      "metadata": {
        "id": "c7ba8160",
        "outputId": "9f9f89b7-f34b-4bfc-f3a8-6b0573f51f59",
        "colab": {
          "base_uri": "https://localhost:8080/",
          "height": 265
        }
      },
      "outputs": [
        {
          "output_type": "display_data",
          "data": {
            "image/png": "[encoded data removed]",
            "text/plain": [
              "<Figure size 432x288 with 1 Axes>"
            ]
          },
          "metadata": {
            "needs_background": "light"
          }
        }
      ],
      "source": [
        "# Create a scatterplot of happiness_score vs. life_exp and show\n",
        "sns.scatterplot(x=life_exp, y=happiness_score)\n",
        "\n",
        "# Show plot\n",
        "plt.show()"
      ]
    },
    {
      "cell_type": "markdown",
      "id": "037ca866",
      "metadata": {
        "id": "037ca866"
      },
      "source": [
        "## Correlation"
      ]
    },
    {
      "cell_type": "code",
      "execution_count": 24,
      "id": "fefaca11",
      "metadata": {
        "id": "fefaca11",
        "outputId": "60d1bb53-b3ce-496f-ba45-312fd1c4e26a",
        "colab": {
          "base_uri": "https://localhost:8080/"
        }
      },
      "outputs": [
        {
          "output_type": "execute_result",
          "data": {
            "text/plain": [
              "0.7406268830335517"
            ]
          },
          "metadata": {},
          "execution_count": 24
        }
      ],
      "source": [
        "r, p = stats.pearsonr(happiness_score, life_exp)\n",
        "r"
      ]
    },
    {
      "cell_type": "code",
      "source": [
        "p"
      ],
      "metadata": {
        "colab": {
          "base_uri": "https://localhost:8080/"
        },
        "id": "xT6UCfLeuf5G",
        "outputId": "f222ab8b-2200-4ab4-fb91-609ae6b0ea8f"
      },
      "id": "xT6UCfLeuf5G",
      "execution_count": 25,
      "outputs": [
        {
          "output_type": "execute_result",
          "data": {
            "text/plain": [
              "3.7073323489746555e-23"
            ]
          },
          "metadata": {},
          "execution_count": 25
        }
      ]
    },
    {
      "cell_type": "code",
      "execution_count": 26,
      "id": "00fba300",
      "metadata": {
        "id": "00fba300",
        "outputId": "5a3b524e-42c4-41e2-cbf2-01d4cec61cd6",
        "colab": {
          "base_uri": "https://localhost:8080/"
        }
      },
      "outputs": [
        {
          "output_type": "execute_result",
          "data": {
            "text/plain": [
              "SpearmanrResult(correlation=0.7712877029752038, pvalue=4.3121609782706506e-26)"
            ]
          },
          "metadata": {},
          "execution_count": 26
        }
      ],
      "source": [
        "stats.spearmanr(happiness_score, life_exp)"
      ]
    },
    {
      "cell_type": "code",
      "execution_count": 27,
      "id": "5ee0d5a5",
      "metadata": {
        "id": "5ee0d5a5",
        "outputId": "70400eca-b540-42ca-bc22-bac6dcbb4103",
        "colab": {
          "base_uri": "https://localhost:8080/"
        }
      },
      "outputs": [
        {
          "output_type": "execute_result",
          "data": {
            "text/plain": [
              "KendalltauResult(correlation=0.5653841906249265, pvalue=8.286382802858583e-21)"
            ]
          },
          "metadata": {},
          "execution_count": 27
        }
      ],
      "source": [
        "stats.kendalltau(happiness_score, life_exp)"
      ]
    },
    {
      "cell_type": "code",
      "execution_count": 28,
      "id": "f75991a1",
      "metadata": {
        "id": "f75991a1",
        "outputId": "c9742417-7a04-47fb-b3ba-732baf33fdc2",
        "colab": {
          "base_uri": "https://localhost:8080/"
        }
      },
      "outputs": [
        {
          "output_type": "execute_result",
          "data": {
            "text/plain": [
              "array([[1.        , 0.74062688],\n",
              "       [0.74062688, 1.        ]])"
            ]
          },
          "metadata": {},
          "execution_count": 28
        }
      ],
      "source": [
        "np.corrcoef(happiness_score, life_exp)"
      ]
    },
    {
      "cell_type": "markdown",
      "id": "7613bb56",
      "metadata": {
        "id": "7613bb56"
      },
      "source": [
        "## Covariance"
      ]
    },
    {
      "cell_type": "code",
      "execution_count": 29,
      "id": "c5c2345f",
      "metadata": {
        "id": "c5c2345f",
        "outputId": "bfec8f00-3b4a-4b8a-9d78-9257a780484f",
        "colab": {
          "base_uri": "https://localhost:8080/"
        }
      },
      "outputs": [
        {
          "output_type": "execute_result",
          "data": {
            "text/plain": [
              "array([[ 1.20644137,  5.43165829],\n",
              "       [ 5.43165829, 44.58201714]])"
            ]
          },
          "metadata": {},
          "execution_count": 29
        }
      ],
      "source": [
        "np.cov(happiness_score, life_exp)"
      ]
    },
    {
      "cell_type": "code",
      "source": [
        "np.cov(life_exp, happiness_score)"
      ],
      "metadata": {
        "id": "gNGxJoOuKoRr",
        "outputId": "27e2c9d0-38e9-4792-a424-a681ae7049bc",
        "colab": {
          "base_uri": "https://localhost:8080/"
        }
      },
      "id": "gNGxJoOuKoRr",
      "execution_count": 31,
      "outputs": [
        {
          "output_type": "execute_result",
          "data": {
            "text/plain": [
              "array([[44.58201714,  5.43165829],\n",
              "       [ 5.43165829,  1.20644137]])"
            ]
          },
          "metadata": {},
          "execution_count": 31
        }
      ]
    },
    {
      "cell_type": "code",
      "execution_count": 32,
      "id": "86f22dc9",
      "metadata": {
        "id": "86f22dc9",
        "outputId": "1f6a363e-4f3c-4de3-ca16-6ce45c0e95e1",
        "colab": {
          "base_uri": "https://localhost:8080/"
        }
      },
      "outputs": [
        {
          "output_type": "execute_result",
          "data": {
            "text/plain": [
              "1.2064413714285713"
            ]
          },
          "metadata": {},
          "execution_count": 32
        }
      ],
      "source": [
        "stats.tvar(happiness_score)"
      ]
    },
    {
      "cell_type": "code",
      "execution_count": 33,
      "id": "a8a1ce09",
      "metadata": {
        "id": "a8a1ce09",
        "outputId": "62aeecab-b64f-46b7-d0e8-f7510e987711",
        "colab": {
          "base_uri": "https://localhost:8080/"
        }
      },
      "outputs": [
        {
          "output_type": "execute_result",
          "data": {
            "text/plain": [
              "44.58201714285714"
            ]
          },
          "metadata": {},
          "execution_count": 33
        }
      ],
      "source": [
        "stats.tvar(life_exp)"
      ]
    },
    {
      "cell_type": "markdown",
      "source": [
        "## Linear Regression"
      ],
      "metadata": {
        "id": "3iv7_fJKRuX6"
      },
      "id": "3iv7_fJKRuX6"
    },
    {
      "cell_type": "markdown",
      "source": [
        "Simple linear regression is an approach for predicting a response using a single feature.\n",
        "\n",
        "It is assumed that the two variables are linearly related."
      ],
      "metadata": {
        "id": "hmrbtWe0ThGh"
      },
      "id": "hmrbtWe0ThGh"
    },
    {
      "cell_type": "code",
      "execution_count": 34,
      "id": "cb7bf003",
      "metadata": {
        "id": "cb7bf003",
        "colab": {
          "base_uri": "https://localhost:8080/"
        },
        "outputId": "0c36eb97-b965-47cb-8569-4da932660f3d"
      },
      "outputs": [
        {
          "output_type": "stream",
          "name": "stdout",
          "text": [
            "Estimated coefficients:\n",
            "b_0 = 39.76139068238402            \n",
            "b_1 = 4.502214872888874\n"
          ]
        }
      ],
      "source": [
        "x = np.array(happiness_score)\n",
        "y = np.array(life_exp)\n",
        "    \n",
        "# number of observations/points\n",
        "n = len(x)\n",
        " \n",
        "# mean of x and y vector\n",
        "m_x = np.mean(x)\n",
        "m_y = np.mean(y)\n",
        " \n",
        "# calculating cross-deviation and deviation about x\n",
        "SS_xy = np.sum(y*x) - n*m_y*m_x\n",
        "SS_xx = np.sum(x*x) - n*m_x*m_x\n",
        " \n",
        "# calculating regression coefficients\n",
        "b_1 = SS_xy / SS_xx\n",
        "b_0 = m_y - b_1*m_x\n",
        "\n",
        "# print regression coefficients\n",
        "print(\"Estimated coefficients:\\nb_0 = {}  \\\n",
        "          \\nb_1 = {}\".format(b_0, b_1))"
      ]
    },
    {
      "cell_type": "markdown",
      "source": [
        "### Linear Regression with Scipy"
      ],
      "metadata": {
        "id": "0Pxc9rztTyZT"
      },
      "id": "0Pxc9rztTyZT"
    },
    {
      "cell_type": "code",
      "execution_count": null,
      "id": "3aeebdfd",
      "metadata": {
        "id": "3aeebdfd"
      },
      "outputs": [],
      "source": [
        "result = stats.linregress(x,y)"
      ]
    },
    {
      "cell_type": "code",
      "source": [
        "print(result)"
      ],
      "metadata": {
        "id": "QbwcwMZmTWQj"
      },
      "id": "QbwcwMZmTWQj",
      "execution_count": null,
      "outputs": []
    },
    {
      "cell_type": "code",
      "source": [
        "b_1 = result.slope\n",
        "b_0 = result.intercept\n",
        "\n",
        "# print regression coefficients\n",
        "print(\"Estimated coefficients:\\nb_0 = {}  \\\n",
        "          \\nb_1 = {}\".format(b_0, b_1))"
      ],
      "metadata": {
        "id": "5a8nQ1gUT496"
      },
      "id": "5a8nQ1gUT496",
      "execution_count": null,
      "outputs": []
    },
    {
      "cell_type": "markdown",
      "source": [
        "### Scatter Plot with Regression Line"
      ],
      "metadata": {
        "id": "0VEM0XpMUKnZ"
      },
      "id": "0VEM0XpMUKnZ"
    },
    {
      "cell_type": "code",
      "source": [
        "# plotting the actual points as scatter plot\n",
        "plt.scatter(x, y, color = \"m\",\n",
        "            marker = \"o\", s = 30)\n",
        " \n",
        "# predicted response vector\n",
        "y_pred = b_0 + b_1*x\n",
        " \n",
        "# plotting the regression line\n",
        "plt.plot(x, y_pred, color = \"g\")\n",
        " \n",
        "# putting labels\n",
        "plt.xlabel('Happiness Score')\n",
        "plt.ylabel('Life Expectancy')\n",
        " \n",
        "# function to show plot\n",
        "plt.show()"
      ],
      "metadata": {
        "id": "tDz1ElexUD4I"
      },
      "id": "tDz1ElexUD4I",
      "execution_count": null,
      "outputs": []
    },
    {
      "cell_type": "code",
      "source": [
        ""
      ],
      "metadata": {
        "id": "yJntki64UYAi"
      },
      "id": "yJntki64UYAi",
      "execution_count": null,
      "outputs": []
    }
  ],
  "metadata": {
    "kernelspec": {
      "display_name": "Python 3",
      "language": "python",
      "name": "python3"
    },
    "language_info": {
      "codemirror_mode": {
        "name": "ipython",
        "version": 3
      },
      "file_extension": ".py",
      "mimetype": "text/x-python",
      "name": "python",
      "nbconvert_exporter": "python",
      "pygments_lexer": "ipython3",
      "version": "3.7.11"
    },
    "colab": {
      "name": "Statistics_Session-4-5.ipynb",
      "provenance": [],
      "collapsed_sections": [],
      "include_colab_link": true
    }
  },
  "nbformat": 4,
  "nbformat_minor": 5
}