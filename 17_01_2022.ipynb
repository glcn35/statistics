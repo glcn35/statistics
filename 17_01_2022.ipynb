{
  "nbformat": 4,
  "nbformat_minor": 0,
  "metadata": {
    "colab": {
      "name": "17.01.2022.ipynb",
      "provenance": [],
      "collapsed_sections": [],
      "authorship_tag": "ABX9TyOrHfwS4uoNqAlbBGxFE1Ko",
      "include_colab_link": true
    },
    "kernelspec": {
      "name": "python3",
      "display_name": "Python 3"
    },
    "language_info": {
      "name": "python"
    }
  },
  "cells": [
    {
      "cell_type": "markdown",
      "metadata": {
        "id": "view-in-github",
        "colab_type": "text"
      },
      "source": [
        "<a href=\"https://colab.research.google.com/github/glcn35/statistics/blob/main/17_01_2022.ipynb\" target=\"_parent\"><img src=\"https://colab.research.google.com/assets/colab-badge.svg\" alt=\"Open In Colab\"/></a>"
      ]
    },
    {
      "cell_type": "code",
      "execution_count": 2,
      "metadata": {
        "id": "VZSv01TXagro"
      },
      "outputs": [],
      "source": [
        "import numpy as np\n",
        "import pandas as pd\n",
        "from scipy import stats\n",
        "import matplotlib.pyplot as plt\n",
        "import seaborn as sns"
      ]
    },
    {
      "cell_type": "code",
      "source": [
        "life_exp = [52.60,68.70,65.90,68.80,66.90,73.60,73.00,65.50,64.30,66.10,72.00,54.30,63.60,67.80,58.90,66.40,66.80,\n",
        "            53.90,53.40,61.60,52.70,73.60,48.20,69.90,69.30,67.70,57.20,57.90,71.30,70.20,70.30,72.40,65.80, 68.50,\n",
        "            61.70,66.10,68.60,58.50,71.90,73.80,59.70,55.00,64.50,72.20,72.40,64.80,54.40,55.70,67.20,60.10,62.10,66.00,\n",
        "            72.30,73.30,73.60,49.50,75.00,66.80,64.60,60.10,64.10,58.70,66.80,67.10,56.10, 67.30,72.60,67.50,59.10,57.60,\n",
        "            67.00,51.70,57.00,66.40,68.30,65.00,62.30,68.50,65.90,54.20,59.00,56.50,63.50,72.30,73.20,67.50,53.50,49.70,\n",
        "            73.20,58.50,69.60,68.10,61.90,72.40,67.20,64.30,61.10, 66.30,59.60,68.20,50.80,68.90,71.10,56.50,73.60,\n",
        "            74.40,67.20,72.60,74.10,57.50,67.20,54.70,66.90,66.80,62.20,55.70,64.60,67.10,72.30,68.30,69.00,65.10,66.50,\n",
        "            67.90,55.30,55.60]"
      ],
      "metadata": {
        "id": "GKoDl1wPaiIq"
      },
      "execution_count": 3,
      "outputs": []
    },
    {
      "cell_type": "code",
      "source": [
        "happiness_score = [2.69,5.00,5.04,5.79,5.06,7.18,7.40,5.17,4.50,5.23,6.89,5.82,5.92,5.89,3.46,6.19,5.10,4.93,3.78,5.12,5.25,\n",
        "                   7.18, 4.49,6.44,5.13,5.98,3.97,5.49,7.14,5.54,7.03,7.65,5.43,6.13,4.01,6.28,6.09,4.38,7.86,6.67,4.78,4.92,\n",
        "                   4.66,7.12,5.41,6.63,5.25, 3.61,5.91,3.82,5.34,4.28,6.96,6.93,6.52,5.27,5.79,4.64,6.01,4.66,5.30,4.86,5.90,\n",
        "                   5.17,4.13,6.31,7.24,5.24,4.07,3.33,5.34,4.42,4.31,5.88,6.55,5.68,5.46,5.65,4.90,4.65,4.41,4.83,4.91,7.46,\n",
        "                   7.37,5.82,5.16,5.25,7.44,5.47,6.28,5.68,5.87,5.92,6.15,5.51,3.56,6.36,4.77,5.94,4.31,6.24,6.25,4.88,\n",
        "                   5.84,6.51,4.40,7.37,7.51,3.45,6.01,4.02,4.74,5.19,4.62,4.32,4.66,6.60,7.23,6.88,6.37,6.21,5.01,5.30,\n",
        "                   4.04,3.62]"
      ],
      "metadata": {
        "id": "yCWN7JaUaiME"
      },
      "execution_count": 4,
      "outputs": []
    },
    {
      "cell_type": "code",
      "source": [
        "type(happiness_score)"
      ],
      "metadata": {
        "colab": {
          "base_uri": "https://localhost:8080/"
        },
        "id": "RgX40aDZaiO-",
        "outputId": "1a76f121-e542-45b2-9c30-eda0147f3c06"
      },
      "execution_count": 5,
      "outputs": [
        {
          "output_type": "execute_result",
          "data": {
            "text/plain": [
              "list"
            ]
          },
          "metadata": {},
          "execution_count": 5
        }
      ]
    },
    {
      "cell_type": "markdown",
      "source": [
        "DESCRİPTİVE STATS"
      ],
      "metadata": {
        "id": "b79Wi7UtbOMQ"
      }
    },
    {
      "cell_type": "code",
      "source": [
        "np.mean(life_exp)"
      ],
      "metadata": {
        "colab": {
          "base_uri": "https://localhost:8080/"
        },
        "id": "7l-aCtCHaiSJ",
        "outputId": "b251502e-497d-47cd-822b-0c6279dc88ad"
      },
      "execution_count": 6,
      "outputs": [
        {
          "output_type": "execute_result",
          "data": {
            "text/plain": [
              "64.52142857142859"
            ]
          },
          "metadata": {},
          "execution_count": 6
        }
      ]
    },
    {
      "cell_type": "code",
      "source": [
        "np.mean(happiness_score)"
      ],
      "metadata": {
        "colab": {
          "base_uri": "https://localhost:8080/"
        },
        "id": "JAg9unCVaiVg",
        "outputId": "76fb1b4d-ee06-4ff3-c79f-d056ce5aff0f"
      },
      "execution_count": 7,
      "outputs": [
        {
          "output_type": "execute_result",
          "data": {
            "text/plain": [
              "5.499523809523809"
            ]
          },
          "metadata": {},
          "execution_count": 7
        }
      ]
    },
    {
      "cell_type": "code",
      "source": [
        "np.median(life_exp)"
      ],
      "metadata": {
        "colab": {
          "base_uri": "https://localhost:8080/"
        },
        "id": "ZdwIBIybaiZj",
        "outputId": "891dee32-58d3-4f36-acaa-377ce8fcfdbd"
      },
      "execution_count": 8,
      "outputs": [
        {
          "output_type": "execute_result",
          "data": {
            "text/plain": [
              "66.35"
            ]
          },
          "metadata": {},
          "execution_count": 8
        }
      ]
    },
    {
      "cell_type": "code",
      "source": [
        "np.median(happiness_score)"
      ],
      "metadata": {
        "colab": {
          "base_uri": "https://localhost:8080/"
        },
        "id": "UNLNwZFnblRo",
        "outputId": "c8249a5b-50d5-4818-b872-f2681650eb9c"
      },
      "execution_count": 9,
      "outputs": [
        {
          "output_type": "execute_result",
          "data": {
            "text/plain": [
              "5.42"
            ]
          },
          "metadata": {},
          "execution_count": 9
        }
      ]
    },
    {
      "cell_type": "markdown",
      "source": [
        "DISPERSION"
      ],
      "metadata": {
        "id": "QokugA0gcpnW"
      }
    },
    {
      "cell_type": "code",
      "source": [
        "np.var(life_exp)"
      ],
      "metadata": {
        "colab": {
          "base_uri": "https://localhost:8080/"
        },
        "id": "WQRHcIZRblU1",
        "outputId": "eab6f88a-0540-45ad-8605-d09cbdfaccc3"
      },
      "execution_count": 10,
      "outputs": [
        {
          "output_type": "execute_result",
          "data": {
            "text/plain": [
              "44.22819160997732"
            ]
          },
          "metadata": {},
          "execution_count": 10
        }
      ]
    },
    {
      "cell_type": "code",
      "source": [
        "np.std(life_exp)"
      ],
      "metadata": {
        "colab": {
          "base_uri": "https://localhost:8080/"
        },
        "id": "ZivFU-PnblZu",
        "outputId": "5c16d386-6569-4ddd-c429-fda4b4537f97"
      },
      "execution_count": 11,
      "outputs": [
        {
          "output_type": "execute_result",
          "data": {
            "text/plain": [
              "6.6504279268312745"
            ]
          },
          "metadata": {},
          "execution_count": 11
        }
      ]
    },
    {
      "cell_type": "code",
      "source": [
        "np.var(happiness_score)"
      ],
      "metadata": {
        "colab": {
          "base_uri": "https://localhost:8080/"
        },
        "id": "Ue893DZvblcq",
        "outputId": "d6cfe232-be79-478b-f1b6-32276925876f"
      },
      "execution_count": 12,
      "outputs": [
        {
          "output_type": "execute_result",
          "data": {
            "text/plain": [
              "1.196866439909297"
            ]
          },
          "metadata": {},
          "execution_count": 12
        }
      ]
    },
    {
      "cell_type": "code",
      "source": [
        "np.std(happiness_score)"
      ],
      "metadata": {
        "colab": {
          "base_uri": "https://localhost:8080/"
        },
        "id": "pxA5iyNHblf4",
        "outputId": "494e0c5d-0261-4c07-ee72-bb7949e8b0bd"
      },
      "execution_count": 13,
      "outputs": [
        {
          "output_type": "execute_result",
          "data": {
            "text/plain": [
              "1.0940139121187158"
            ]
          },
          "metadata": {},
          "execution_count": 13
        }
      ]
    },
    {
      "cell_type": "code",
      "source": [
        "q1= np.percentile(life_exp, 25)"
      ],
      "metadata": {
        "id": "kWUbKaNUdXzr"
      },
      "execution_count": 14,
      "outputs": []
    },
    {
      "cell_type": "code",
      "source": [
        "q1"
      ],
      "metadata": {
        "colab": {
          "base_uri": "https://localhost:8080/"
        },
        "id": "ADAkHLeYdX9x",
        "outputId": "82f1148e-0bfa-4f2d-f51f-59e875174b52"
      },
      "execution_count": 15,
      "outputs": [
        {
          "output_type": "execute_result",
          "data": {
            "text/plain": [
              "59.025"
            ]
          },
          "metadata": {},
          "execution_count": 15
        }
      ]
    },
    {
      "cell_type": "code",
      "source": [
        "q3= np.percentile(life_exp, 75)"
      ],
      "metadata": {
        "id": "5GySD8PgdYA0"
      },
      "execution_count": 16,
      "outputs": []
    },
    {
      "cell_type": "code",
      "source": [
        "q3"
      ],
      "metadata": {
        "colab": {
          "base_uri": "https://localhost:8080/"
        },
        "id": "ItID2s8ndYEw",
        "outputId": "ebf2d9b0-8883-438e-e772-904c5d4cc705"
      },
      "execution_count": 17,
      "outputs": [
        {
          "output_type": "execute_result",
          "data": {
            "text/plain": [
              "68.875"
            ]
          },
          "metadata": {},
          "execution_count": 17
        }
      ]
    },
    {
      "cell_type": "code",
      "source": [
        "stats.iqr(life_exp)   #q1 -1,5*ıgr = outlier  q3 + 1,5*ıqr = outlier"
      ],
      "metadata": {
        "colab": {
          "base_uri": "https://localhost:8080/"
        },
        "id": "z9OsqNqpaioe",
        "outputId": "ed9c7fdc-8191-4ae7-b4eb-464389de4b43"
      },
      "execution_count": 18,
      "outputs": [
        {
          "output_type": "execute_result",
          "data": {
            "text/plain": [
              "9.850000000000001"
            ]
          },
          "metadata": {},
          "execution_count": 18
        }
      ]
    },
    {
      "cell_type": "code",
      "source": [
        "np.max(life_exp)"
      ],
      "metadata": {
        "colab": {
          "base_uri": "https://localhost:8080/"
        },
        "id": "l20iCp9Laiss",
        "outputId": "47522d77-b3c5-45ff-8c32-f06b83d509bc"
      },
      "execution_count": 19,
      "outputs": [
        {
          "output_type": "execute_result",
          "data": {
            "text/plain": [
              "75.0"
            ]
          },
          "metadata": {},
          "execution_count": 19
        }
      ]
    },
    {
      "cell_type": "code",
      "source": [
        "stats.skew(life_exp)"
      ],
      "metadata": {
        "colab": {
          "base_uri": "https://localhost:8080/"
        },
        "id": "DMudsJFqe2ap",
        "outputId": "71414ab6-f501-4ac9-e102-c005d077b366"
      },
      "execution_count": 20,
      "outputs": [
        {
          "output_type": "execute_result",
          "data": {
            "text/plain": [
              "-0.507998161416463"
            ]
          },
          "metadata": {},
          "execution_count": 20
        }
      ]
    },
    {
      "cell_type": "code",
      "source": [
        "stats.kurtosis(life_exp)"
      ],
      "metadata": {
        "colab": {
          "base_uri": "https://localhost:8080/"
        },
        "id": "chU8-HISfJun",
        "outputId": "98e84f85-cdb4-4cf6-e02c-4bf5778d2629"
      },
      "execution_count": 21,
      "outputs": [
        {
          "output_type": "execute_result",
          "data": {
            "text/plain": [
              "-0.7040394620922208"
            ]
          },
          "metadata": {},
          "execution_count": 21
        }
      ]
    },
    {
      "cell_type": "code",
      "source": [
        "plt.hist(life_exp)"
      ],
      "metadata": {
        "colab": {
          "base_uri": "https://localhost:8080/",
          "height": 337
        },
        "id": "UcLtndCCfJyo",
        "outputId": "63110373-4484-43fd-89fc-f94d0374de92"
      },
      "execution_count": 22,
      "outputs": [
        {
          "output_type": "execute_result",
          "data": {
            "text/plain": [
              "(array([ 4.,  5., 11., 11.,  7.,  9., 25., 26., 11., 17.]),\n",
              " array([48.2 , 50.88, 53.56, 56.24, 58.92, 61.6 , 64.28, 66.96, 69.64,\n",
              "        72.32, 75.  ]),\n",
              " <a list of 10 Patch objects>)"
            ]
          },
          "metadata": {},
          "execution_count": 22
        },
        {
          "output_type": "display_data",
          "data": {
            "image/png": "[encoded data removed]",
            "text/plain": [
              "<Figure size 432x288 with 1 Axes>"
            ]
          },
          "metadata": {
            "needs_background": "light"
          }
        }
      ]
    },
    {
      "cell_type": "code",
      "source": [
        "sns.kdeplot(life_exp)"
      ],
      "metadata": {
        "colab": {
          "base_uri": "https://localhost:8080/",
          "height": 283
        },
        "id": "o0QsIuoAfJ13",
        "outputId": "9b086f81-e50b-4390-ea32-1d5bbfc35d0b"
      },
      "execution_count": 23,
      "outputs": [
        {
          "output_type": "execute_result",
          "data": {
            "text/plain": [
              "<matplotlib.axes._subplots.AxesSubplot at 0x7fdab524fe10>"
            ]
          },
          "metadata": {},
          "execution_count": 23
        },
        {
          "output_type": "display_data",
          "data": {
            "image/png": "[encoded data removed]",
            "text/plain": [
              "<Figure size 432x288 with 1 Axes>"
            ]
          },
          "metadata": {
            "needs_background": "light"
          }
        }
      ]
    },
    {
      "cell_type": "code",
      "source": [
        "sns.scatterplot(x=life_exp, y=happiness_score)\n",
        "plt.show()"
      ],
      "metadata": {
        "colab": {
          "base_uri": "https://localhost:8080/",
          "height": 265
        },
        "id": "9I71Xq7MfJ6H",
        "outputId": "fb0ef088-7fe1-453a-b2ed-c317b9437b7d"
      },
      "execution_count": 25,
      "outputs": [
        {
          "output_type": "display_data",
          "data": {
            "image/png": "[encoded data removed]",
            "text/plain": [
              "<Figure size 432x288 with 1 Axes>"
            ]
          },
          "metadata": {
            "needs_background": "light"
          }
        }
      ]
    },
    {
      "cell_type": "code",
      "source": [
        "sns.regplot(life_exp,happiness_score);"
      ],
      "metadata": {
        "colab": {
          "base_uri": "https://localhost:8080/",
          "height": 320
        },
        "id": "MJF4kNXPhvIh",
        "outputId": "89bcc291-fd6e-4569-8ce2-5fe550fbfaac"
      },
      "execution_count": 31,
      "outputs": [
        {
          "output_type": "stream",
          "name": "stderr",
          "text": [
            "/usr/local/lib/python3.7/dist-packages/seaborn/_decorators.py:43: FutureWarning: Pass the following variables as keyword args: x, y. From version 0.12, the only valid positional argument will be `data`, and passing other arguments without an explicit keyword will result in an error or misinterpretation.\n",
            "  FutureWarning\n"
          ]
        },
        {
          "output_type": "display_data",
          "data": {
            "image/png": "[encoded data removed]",
            "text/plain": [
              "<Figure size 432x288 with 1 Axes>"
            ]
          },
          "metadata": {
            "needs_background": "light"
          }
        }
      ]
    },
    {
      "cell_type": "code",
      "source": [
        "r,p =stats.pearsonr(happiness_score,life_exp)\n",
        "r"
      ],
      "metadata": {
        "colab": {
          "base_uri": "https://localhost:8080/"
        },
        "id": "40uAKpc7gXl2",
        "outputId": "61f8e952-4b18-4a2d-bd46-f2282f228ebc"
      },
      "execution_count": 27,
      "outputs": [
        {
          "output_type": "execute_result",
          "data": {
            "text/plain": [
              "0.7406268830335517"
            ]
          },
          "metadata": {},
          "execution_count": 27
        }
      ]
    },
    {
      "cell_type": "code",
      "source": [
        "p"
      ],
      "metadata": {
        "colab": {
          "base_uri": "https://localhost:8080/"
        },
        "id": "3zMvgDBRgXod",
        "outputId": "ecadf785-2b37-45ee-c949-eca2d9303682"
      },
      "execution_count": 28,
      "outputs": [
        {
          "output_type": "execute_result",
          "data": {
            "text/plain": [
              "3.7073323489746555e-23"
            ]
          },
          "metadata": {},
          "execution_count": 28
        }
      ]
    },
    {
      "cell_type": "code",
      "source": [
        "np.corrcoef(happiness_score,life_exp)"
      ],
      "metadata": {
        "colab": {
          "base_uri": "https://localhost:8080/"
        },
        "id": "A6622F3ShgHq",
        "outputId": "ceda8973-1207-4a93-92b0-9531f24502c3"
      },
      "execution_count": 30,
      "outputs": [
        {
          "output_type": "execute_result",
          "data": {
            "text/plain": [
              "array([[1.        , 0.74062688],\n",
              "       [0.74062688, 1.        ]])"
            ]
          },
          "metadata": {},
          "execution_count": 30
        }
      ]
    },
    {
      "cell_type": "code",
      "source": [
        "x =np.array(happiness_score)\n",
        "x"
      ],
      "metadata": {
        "colab": {
          "base_uri": "https://localhost:8080/"
        },
        "id": "FSnxecWwhgLo",
        "outputId": "36be0237-b4bd-41dc-f2fc-09a831c9139a"
      },
      "execution_count": 33,
      "outputs": [
        {
          "output_type": "execute_result",
          "data": {
            "text/plain": [
              "array([2.69, 5.  , 5.04, 5.79, 5.06, 7.18, 7.4 , 5.17, 4.5 , 5.23, 6.89,\n",
              "       5.82, 5.92, 5.89, 3.46, 6.19, 5.1 , 4.93, 3.78, 5.12, 5.25, 7.18,\n",
              "       4.49, 6.44, 5.13, 5.98, 3.97, 5.49, 7.14, 5.54, 7.03, 7.65, 5.43,\n",
              "       6.13, 4.01, 6.28, 6.09, 4.38, 7.86, 6.67, 4.78, 4.92, 4.66, 7.12,\n",
              "       5.41, 6.63, 5.25, 3.61, 5.91, 3.82, 5.34, 4.28, 6.96, 6.93, 6.52,\n",
              "       5.27, 5.79, 4.64, 6.01, 4.66, 5.3 , 4.86, 5.9 , 5.17, 4.13, 6.31,\n",
              "       7.24, 5.24, 4.07, 3.33, 5.34, 4.42, 4.31, 5.88, 6.55, 5.68, 5.46,\n",
              "       5.65, 4.9 , 4.65, 4.41, 4.83, 4.91, 7.46, 7.37, 5.82, 5.16, 5.25,\n",
              "       7.44, 5.47, 6.28, 5.68, 5.87, 5.92, 6.15, 5.51, 3.56, 6.36, 4.77,\n",
              "       5.94, 4.31, 6.24, 6.25, 4.88, 5.84, 6.51, 4.4 , 7.37, 7.51, 3.45,\n",
              "       6.01, 4.02, 4.74, 5.19, 4.62, 4.32, 4.66, 6.6 , 7.23, 6.88, 6.37,\n",
              "       6.21, 5.01, 5.3 , 4.04, 3.62])"
            ]
          },
          "metadata": {},
          "execution_count": 33
        }
      ]
    },
    {
      "cell_type": "code",
      "source": [
        "y= np.array(life_exp)\n",
        "y"
      ],
      "metadata": {
        "colab": {
          "base_uri": "https://localhost:8080/"
        },
        "id": "grOjiuzDhgOY",
        "outputId": "cb088618-4bc6-4ef2-a60e-07fa251f40e8"
      },
      "execution_count": 34,
      "outputs": [
        {
          "output_type": "execute_result",
          "data": {
            "text/plain": [
              "array([52.6, 68.7, 65.9, 68.8, 66.9, 73.6, 73. , 65.5, 64.3, 66.1, 72. ,\n",
              "       54.3, 63.6, 67.8, 58.9, 66.4, 66.8, 53.9, 53.4, 61.6, 52.7, 73.6,\n",
              "       48.2, 69.9, 69.3, 67.7, 57.2, 57.9, 71.3, 70.2, 70.3, 72.4, 65.8,\n",
              "       68.5, 61.7, 66.1, 68.6, 58.5, 71.9, 73.8, 59.7, 55. , 64.5, 72.2,\n",
              "       72.4, 64.8, 54.4, 55.7, 67.2, 60.1, 62.1, 66. , 72.3, 73.3, 73.6,\n",
              "       49.5, 75. , 66.8, 64.6, 60.1, 64.1, 58.7, 66.8, 67.1, 56.1, 67.3,\n",
              "       72.6, 67.5, 59.1, 57.6, 67. , 51.7, 57. , 66.4, 68.3, 65. , 62.3,\n",
              "       68.5, 65.9, 54.2, 59. , 56.5, 63.5, 72.3, 73.2, 67.5, 53.5, 49.7,\n",
              "       73.2, 58.5, 69.6, 68.1, 61.9, 72.4, 67.2, 64.3, 61.1, 66.3, 59.6,\n",
              "       68.2, 50.8, 68.9, 71.1, 56.5, 73.6, 74.4, 67.2, 72.6, 74.1, 57.5,\n",
              "       67.2, 54.7, 66.9, 66.8, 62.2, 55.7, 64.6, 67.1, 72.3, 68.3, 69. ,\n",
              "       65.1, 66.5, 67.9, 55.3, 55.6])"
            ]
          },
          "metadata": {},
          "execution_count": 34
        }
      ]
    },
    {
      "cell_type": "code",
      "source": [
        "result=stats.linregress(x,y)\n",
        "result"
      ],
      "metadata": {
        "colab": {
          "base_uri": "https://localhost:8080/"
        },
        "id": "KpBfwMvPiApU",
        "outputId": "7d28bdc3-9afc-4f7c-942f-f5fd919f23a4"
      },
      "execution_count": 36,
      "outputs": [
        {
          "output_type": "execute_result",
          "data": {
            "text/plain": [
              "LinregressResult(slope=4.502214872888972, intercept=39.76139068238348, rvalue=0.7406268830335517, pvalue=3.7073323489746655e-23, stderr=0.3668016053581123)"
            ]
          },
          "metadata": {},
          "execution_count": 36
        }
      ]
    },
    {
      "cell_type": "code",
      "source": [
        "#p değeri 0,25 ten küçük olunca populasyonada bu istatistik anlamlı olmaz."
      ],
      "metadata": {
        "id": "Hv44qfi4iAtO"
      },
      "execution_count": null,
      "outputs": []
    },
    {
      "cell_type": "code",
      "source": [
        ""
      ],
      "metadata": {
        "id": "bfE-7u7GjnKS"
      },
      "execution_count": null,
      "outputs": []
    },
    {
      "cell_type": "code",
      "source": [
        "plt.boxplot(life_exp);\n",
        "sns.boxplot(life_exp);"
      ],
      "metadata": {
        "colab": {
          "base_uri": "https://localhost:8080/",
          "height": 320
        },
        "id": "HJwjxDwGgXra",
        "outputId": "04300ab2-dad9-415a-bd06-4c02b52a6112"
      },
      "execution_count": 29,
      "outputs": [
        {
          "output_type": "stream",
          "name": "stderr",
          "text": [
            "/usr/local/lib/python3.7/dist-packages/seaborn/_decorators.py:43: FutureWarning: Pass the following variable as a keyword arg: x. From version 0.12, the only valid positional argument will be `data`, and passing other arguments without an explicit keyword will result in an error or misinterpretation.\n",
            "  FutureWarning\n"
          ]
        },
        {
          "output_type": "display_data",
          "data": {
            "image/png": "[encoded data removed]",
            "text/plain": [
              "<Figure size 432x288 with 1 Axes>"
            ]
          },
          "metadata": {
            "needs_background": "light"
          }
        }
      ]
    },
    {
      "cell_type": "code",
      "source": [
        ""
      ],
      "metadata": {
        "id": "4Y6Cvr3igXuq"
      },
      "execution_count": null,
      "outputs": []
    },
    {
      "cell_type": "code",
      "source": [
        ""
      ],
      "metadata": {
        "id": "a3SQVBsee2di"
      },
      "execution_count": null,
      "outputs": []
    },
    {
      "cell_type": "code",
      "source": [
        ""
      ],
      "metadata": {
        "id": "RagzpCzve2gu"
      },
      "execution_count": null,
      "outputs": []
    },
    {
      "cell_type": "code",
      "source": [
        ""
      ],
      "metadata": {
        "id": "ZPSbjg3be2j3"
      },
      "execution_count": null,
      "outputs": []
    }
  ]
}